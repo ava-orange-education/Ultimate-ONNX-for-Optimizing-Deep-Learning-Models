{
 "cells": [
  {
   "cell_type": "markdown",
   "id": "70b1e7c0-587f-498a-a469-eb92fd4c67f7",
   "metadata": {},
   "source": [
    "# Chapter-6 Model Pruning in Pytorch and exporting to ONNX"
   ]
  },
  {
   "cell_type": "markdown",
   "id": "2819a313-9354-4cbe-b712-61feb1cff956",
   "metadata": {},
   "source": [
    "#### In this notebook, we will try to prune ResNet50 model in Pytorch. We will explore different pruning techniques to prune the model and measure the performance of the model. We will then export the pruned model to the ONNX."
   ]
  },
  {
   "cell_type": "markdown",
   "id": "4fc3b39f-9645-45ae-9fe0-3670fe0ac7de",
   "metadata": {},
   "source": [
    "### Step-1: Train a ResNet50 model on Cats v/s Dogs dataset"
   ]
  },
  {
   "cell_type": "markdown",
   "id": "f8ac1463-b959-4a4f-aed8-57125cba302a",
   "metadata": {},
   "source": [
    "We will be using Cats v/s Dogs dataset from huggingface. \n",
    "Link: https://huggingface.co/datasets/microsoft/cats_vs_dogs"
   ]
  },
  {
   "cell_type": "markdown",
   "id": "b7c1cce5-1ca2-4f1d-9071-025d0a47c81a",
   "metadata": {},
   "source": [
    "<div style=\"text-align: center;\">\n",
    "    <h3>Architecture of ResNet50 model</h3>\n",
    "    <img src=\"https://www.researchgate.net/profile/Master-Prince/publication/350421671/figure/fig1/AS:1005790324346881@1616810508674/An-illustration-of-ResNet-50-layers-architecture.png\" width=\"400\" height=\"300\">\n",
    "</div>\n",
    "\n"
   ]
  },
  {
   "cell_type": "code",
   "execution_count": null,
   "id": "f22fd8fc",
   "metadata": {},
   "outputs": [],
   "source": [
    "# Install dependencies\n",
    "!pip install onnx==1.18.0 onnxruntime==1.22.0 netron==8.4.3\n",
    "!pip install torch==2.6.0 torchvision==0.21.0 torchaudio==2.6.0 \\\n",
    "    --index-url https://download.pytorch.org/whl/cu124\n",
    "!pip install datasets==4.0.0"
   ]
  },
  {
   "cell_type": "code",
   "execution_count": 1,
   "id": "8239501a-dfec-4118-b85e-38873389deeb",
   "metadata": {},
   "outputs": [
    {
     "data": {
      "text/plain": [
       "<torch._C.Generator at 0x7fca940d44b0>"
      ]
     },
     "execution_count": 1,
     "metadata": {},
     "output_type": "execute_result"
    }
   ],
   "source": [
    "import os\n",
    "import copy\n",
    "import torch\n",
    "import torch.nn as nn\n",
    "from tqdm.auto import tqdm\n",
    "import torch.optim as optim\n",
    "from torch.nn.utils import prune\n",
    "import torchvision.models as models\n",
    "import torchvision.transforms as T\n",
    "from datasets import load_dataset\n",
    "from torchvision import transforms\n",
    "from collections import defaultdict\n",
    "from torch.utils.data import DataLoader, random_split\n",
    "\n",
    "torch.manual_seed(42)"
   ]
  },
  {
   "cell_type": "code",
   "execution_count": 2,
   "id": "718b4ea5-b1ef-4242-99f8-0a29944fcd3f",
   "metadata": {},
   "outputs": [],
   "source": [
    "# Setup Dataset object for training\n",
    "\n",
    "class CatDogDataset(torch.utils.data.Dataset):\n",
    "    # Load dataset from Hugging Face\n",
    "    dataset = load_dataset(\"microsoft/cats_vs_dogs\")\n",
    "    \n",
    "    # Split dataset into train and test sets\n",
    "    train_size = int(0.8 * len(dataset[\"train\"]))\n",
    "    test_size = len(dataset[\"train\"]) - train_size\n",
    "    train_dataset, test_dataset = random_split(dataset[\"train\"], [train_size, test_size])\n",
    "\n",
    "    def __init__(self, is_train=True):\n",
    "        if is_train:\n",
    "            self.ds = self.__class__.train_dataset\n",
    "            self.transform_fn = self.transforms()\n",
    "        else:\n",
    "            self.ds = self.__class__.test_dataset\n",
    "            self.transform_fn = self.transforms()\n",
    "\n",
    "    def transforms(self):\n",
    "        transform = transforms.Compose(\n",
    "            [\n",
    "                T.Resize((224, 224)),\n",
    "                T.Lambda(lambda img: img.convert(\"RGB\") if img.mode != \"RGB\" else img),  # Convert grayscale to RGB\n",
    "                T.ToTensor(),\n",
    "                T.Normalize(mean=[0.485, 0.456, 0.406], std=[0.229, 0.224, 0.225]),      # ImageNet normalization\n",
    "            ]\n",
    "        )\n",
    "        return transform\n",
    "\n",
    "    def __len__(self):\n",
    "        return len(self.ds)\n",
    "\n",
    "    def __getitem__(self, idx):\n",
    "        example = self.ds[idx]\n",
    "        img = example[\"image\"]\n",
    "        example.pop(\"image\")\n",
    "        example[\"images\"] = self.transform_fn(img)\n",
    "        example[\"labels\"] = torch.tensor(example[\"labels\"], dtype=torch.long)\n",
    "        return example"
   ]
  },
  {
   "cell_type": "code",
   "execution_count": 3,
   "id": "3d820192-3ad4-41ed-a47f-af2a00b73cf6",
   "metadata": {},
   "outputs": [],
   "source": [
    "# Setup ResNet50 classifier model\n",
    "\n",
    "class ResNetClassifier(nn.Module):\n",
    "    def __init__(self, ckpt_path=None):\n",
    "        super(ResNetClassifier, self).__init__()\n",
    "\n",
    "        # Load pretrained resnet50\n",
    "        self.model = models.resnet50(pretrained=True)\n",
    "\n",
    "        # Update the last FC layer for 2 class classification problem\n",
    "        self.model.fc = nn.Linear(self.model.fc.in_features, 2)\n",
    "        self.loss_fn = nn.CrossEntropyLoss()\n",
    "\n",
    "        # Load the checkpoint if it is provided.\n",
    "        if ckpt_path is not None:\n",
    "            if not os.path.isfile(ckpt_path):\n",
    "                raise FileNotFoundError(f\"File not present at: {ckpt_path}.\")\n",
    "            self.model.load_state_dict(torch.load(ckpt_path))\n",
    "\n",
    "    def forward(self, images, labels=None):\n",
    "        logits = self.model(images)\n",
    "        loss = self.loss_fn(logits, labels) if labels is not None else None\n",
    "        return (loss, logits) if loss is not None else logits"
   ]
  },
  {
   "cell_type": "code",
   "execution_count": 4,
   "id": "cc3fdeb8-efc4-4152-8a56-08fe1a6562c9",
   "metadata": {},
   "outputs": [],
   "source": [
    "# Setup the training class\n",
    "\n",
    "class Trainer:\n",
    "    def __init__(self, model, train_dataset, test_dataset, batch_size, num_workers, \n",
    "                num_epochs, lr, device, model_name):\n",
    "        self.batch_size = batch_size\n",
    "        self.num_workers = num_workers\n",
    "        self.num_epochs = num_epochs\n",
    "        self.lr = lr\n",
    "        self.device = device\n",
    "        self.model_name = model_name\n",
    "\n",
    "        self.train_loader = DataLoader(\n",
    "            train_dataset, batch_size=batch_size, shuffle=True, num_workers=num_workers\n",
    "        )\n",
    "        self.test_loader = DataLoader(\n",
    "            test_dataset, batch_size=batch_size, num_workers=num_workers\n",
    "        )\n",
    "        self.model = model\n",
    "        self.model = self.model.to(self.device)\n",
    "\n",
    "    def fit(self):\n",
    "        # Loss and optimizer\n",
    "        criterion = nn.CrossEntropyLoss()\n",
    "        optimizer = optim.Adam(self.model.parameters(), lr=self.lr)\n",
    "\n",
    "        # Training loop\n",
    "        for epoch in range(self.num_epochs):\n",
    "            self.model.train()\n",
    "            total_loss = 0\n",
    "            correct = 0\n",
    "            total = 0\n",
    "            for batch in tqdm(self.train_loader):\n",
    "                images, labels = batch[\"images\"].to(self.device), batch[\"labels\"].to(self.device)\n",
    "                optimizer.zero_grad()\n",
    "                outputs = self.model(images)\n",
    "                loss = criterion(outputs, labels)\n",
    "                loss.backward()\n",
    "                optimizer.step()\n",
    "                total_loss += loss.item()\n",
    "                _, predicted = outputs.max(1)\n",
    "                correct += predicted.eq(labels).sum().item()\n",
    "                total += labels.size(0)\n",
    "            print(f\"Epoch {epoch+1}/{self.num_epochs}, Loss: {total_loss/len(self.train_loader)}, Accuracy: {correct/total*100:.2f}%\")\n",
    "\n",
    "            # Test loop\n",
    "            self.model.eval()\n",
    "            correct = 0\n",
    "            total = 0\n",
    "            with torch.no_grad():\n",
    "                for batch in tqdm(self.test_loader):\n",
    "                    images, labels = batch[\"images\"].to(self.device), batch[\"labels\"].to(self.device)\n",
    "                    outputs = self.model(images)\n",
    "                    _, predicted = outputs.max(1)\n",
    "                    correct += predicted.eq(labels).sum().item()\n",
    "                    total += labels.size(0)\n",
    "            print(f\"Test Accuracy: {correct/total*100:.2f}%\")\n",
    "\n",
    "        # Save Model\n",
    "        torch.save(self.model.state_dict(), f\"{self.model_name.replace('.', '_').replace('/', '_')}.pth\")\n",
    "\n",
    "    def test(self):\n",
    "        # Test loop\n",
    "        self.model.to(self.device)\n",
    "        self.model.eval()\n",
    "        correct = 0\n",
    "        total = 0\n",
    "        with torch.no_grad():\n",
    "            for batch in tqdm(self.test_loader):\n",
    "                images, labels = batch[\"images\"].to(self.device), batch[\"labels\"].to(\n",
    "                    self.device\n",
    "                )\n",
    "                outputs = self.model(images)\n",
    "                _, predicted = outputs.max(1)\n",
    "                correct += predicted.eq(labels).sum().item()\n",
    "                total += labels.size(0)\n",
    "        acc = correct / total * 100\n",
    "        print(f\"Test Accuracy: {acc:.2f}%\")\n",
    "        return acc"
   ]
  },
  {
   "cell_type": "code",
   "execution_count": 5,
   "id": "8485702b-5000-4999-a582-9857aabb4c5e",
   "metadata": {},
   "outputs": [],
   "source": [
    "# Define Hyperparameters\n",
    "\n",
    "BATCH_SIZE = 32\n",
    "LR = 1e-3\n",
    "EPOCHS = 3\n",
    "NUM_WORKERS = 4  # Adjust based on CPU cores\n",
    "DEVICE = torch.device(\"cuda\" if torch.cuda.is_available() else \"cpu\")\n",
    "MODEL_NAME = \"resnet50_cats_dogs\""
   ]
  },
  {
   "cell_type": "code",
   "execution_count": 6,
   "id": "a461ddba-a0d9-4156-b14c-466cf49eab97",
   "metadata": {},
   "outputs": [],
   "source": [
    "# Setup dataloader\n",
    "train_dataset = CatDogDataset(is_train=True)\n",
    "test_dataset = CatDogDataset(is_train=False)"
   ]
  },
  {
   "cell_type": "code",
   "execution_count": 7,
   "id": "2223d5e4-b03d-4606-a4c8-98ce426fa60e",
   "metadata": {
    "scrolled": true
   },
   "outputs": [
    {
     "name": "stderr",
     "output_type": "stream",
     "text": [
      "/mnt/d/Meet/Company/Orange Eva Publication/Jupyter Notebook/onnx_env/lib/python3.10/site-packages/torchvision/models/_utils.py:208: UserWarning: The parameter 'pretrained' is deprecated since 0.13 and may be removed in the future, please use 'weights' instead.\n",
      "  warnings.warn(\n",
      "/mnt/d/Meet/Company/Orange Eva Publication/Jupyter Notebook/onnx_env/lib/python3.10/site-packages/torchvision/models/_utils.py:223: UserWarning: Arguments other than a weight enum or `None` for 'weights' are deprecated since 0.13 and may be removed in the future. The current behavior is equivalent to passing `weights=ResNet50_Weights.IMAGENET1K_V1`. You can also use `weights=ResNet50_Weights.DEFAULT` to get the most up-to-date weights.\n",
      "  warnings.warn(msg)\n"
     ]
    },
    {
     "data": {
      "application/vnd.jupyter.widget-view+json": {
       "model_id": "4fa341389e31410991f84f037d6c36ae",
       "version_major": 2,
       "version_minor": 0
      },
      "text/plain": [
       "  0%|          | 0/586 [00:00<?, ?it/s]"
      ]
     },
     "metadata": {},
     "output_type": "display_data"
    },
    {
     "name": "stdout",
     "output_type": "stream",
     "text": [
      "Epoch 1/3, Loss: 0.23909997593598764, Accuracy: 89.91%\n"
     ]
    },
    {
     "data": {
      "application/vnd.jupyter.widget-view+json": {
       "model_id": "642449cfacb44458b111db587737f723",
       "version_major": 2,
       "version_minor": 0
      },
      "text/plain": [
       "  0%|          | 0/147 [00:00<?, ?it/s]"
      ]
     },
     "metadata": {},
     "output_type": "display_data"
    },
    {
     "name": "stdout",
     "output_type": "stream",
     "text": [
      "Test Accuracy: 90.24%\n"
     ]
    },
    {
     "data": {
      "application/vnd.jupyter.widget-view+json": {
       "model_id": "7be46fb0b1c7484a9a200ba5f0690f86",
       "version_major": 2,
       "version_minor": 0
      },
      "text/plain": [
       "  0%|          | 0/586 [00:00<?, ?it/s]"
      ]
     },
     "metadata": {},
     "output_type": "display_data"
    },
    {
     "name": "stdout",
     "output_type": "stream",
     "text": [
      "Epoch 2/3, Loss: 0.15712740046127918, Accuracy: 93.75%\n"
     ]
    },
    {
     "data": {
      "application/vnd.jupyter.widget-view+json": {
       "model_id": "47775af2b591441a9566a76c068f98fb",
       "version_major": 2,
       "version_minor": 0
      },
      "text/plain": [
       "  0%|          | 0/147 [00:00<?, ?it/s]"
      ]
     },
     "metadata": {},
     "output_type": "display_data"
    },
    {
     "name": "stdout",
     "output_type": "stream",
     "text": [
      "Test Accuracy: 91.03%\n"
     ]
    },
    {
     "data": {
      "application/vnd.jupyter.widget-view+json": {
       "model_id": "4c3e5fa2abaf4956a06dfc07e7af970e",
       "version_major": 2,
       "version_minor": 0
      },
      "text/plain": [
       "  0%|          | 0/586 [00:00<?, ?it/s]"
      ]
     },
     "metadata": {},
     "output_type": "display_data"
    },
    {
     "name": "stderr",
     "output_type": "stream",
     "text": [
      "Exception ignored in: <function _MultiProcessingDataLoaderIter.__del__ at 0x7fc9f8931090>\n",
      "Traceback (most recent call last):\n",
      "  File \"/mnt/d/Meet/Company/Orange Eva Publication/Jupyter Notebook/onnx_env/lib/python3.10/site-packages/torch/utils/data/dataloader.py\", line 1618, in __del__\n",
      "    self._shutdown_workers()\n",
      "  File \"/mnt/d/Meet/Company/Orange Eva Publication/Jupyter Notebook/onnx_env/lib/python3.10/site-packages/torch/utils/data/dataloader.py\", line 1601, in _shutdown_workers\n",
      "    if w.is_alive():\n",
      "  File \"/usr/lib/python3.10/multiprocessing/process.py\", line 160, in is_alive\n",
      "    assert self._parent_pid == os.getpid(), 'can only test a child process'\n",
      "AssertionError: can only test a child process\n",
      "Exception ignored in: <function _MultiProcessingDataLoaderIter.__del__ at 0x7fc9f8931090>\n",
      "Traceback (most recent call last):\n",
      "  File \"/mnt/d/Meet/Company/Orange Eva Publication/Jupyter Notebook/onnx_env/lib/python3.10/site-packages/torch/utils/data/dataloader.py\", line 1618, in __del__\n",
      "    self._shutdown_workers()\n",
      "  File \"/mnt/d/Meet/Company/Orange Eva Publication/Jupyter Notebook/onnx_env/lib/python3.10/site-packages/torch/utils/data/dataloader.py\", line 1601, in _shutdown_workers\n",
      "    if w.is_alive():\n",
      "  File \"/usr/lib/python3.10/multiprocessing/process.py\", line 160, in is_alive\n",
      "    assert self._parent_pid == os.getpid(), 'can only test a child process'\n",
      "AssertionError: can only test a child process\n",
      "Exception ignored in: <function _MultiProcessingDataLoaderIter.__del__ at 0x7fc9f8931090>\n",
      "Traceback (most recent call last):\n",
      "  File \"/mnt/d/Meet/Company/Orange Eva Publication/Jupyter Notebook/onnx_env/lib/python3.10/site-packages/torch/utils/data/dataloader.py\", line 1618, in __del__\n",
      "    self._shutdown_workers()\n",
      "  File \"/mnt/d/Meet/Company/Orange Eva Publication/Jupyter Notebook/onnx_env/lib/python3.10/site-packages/torch/utils/data/dataloader.py\", line 1601, in _shutdown_workers\n",
      "    if w.is_alive():\n",
      "  File \"/usr/lib/python3.10/multiprocessing/process.py\", line 160, in is_alive\n",
      "    assert self._parent_pid == os.getpid(), 'can only test a child process'\n",
      "AssertionError: can only test a child process\n"
     ]
    },
    {
     "name": "stdout",
     "output_type": "stream",
     "text": [
      "Epoch 3/3, Loss: 0.1338720278788212, Accuracy: 94.49%\n"
     ]
    },
    {
     "data": {
      "application/vnd.jupyter.widget-view+json": {
       "model_id": "6e29fa42afbe42cf99b5b6aa48229562",
       "version_major": 2,
       "version_minor": 0
      },
      "text/plain": [
       "  0%|          | 0/147 [00:00<?, ?it/s]"
      ]
     },
     "metadata": {},
     "output_type": "display_data"
    },
    {
     "name": "stdout",
     "output_type": "stream",
     "text": [
      "Test Accuracy: 95.39%\n"
     ]
    },
    {
     "data": {
      "application/vnd.jupyter.widget-view+json": {
       "model_id": "ab425d82b12a41389d72677a8518aed2",
       "version_major": 2,
       "version_minor": 0
      },
      "text/plain": [
       "  0%|          | 0/147 [00:00<?, ?it/s]"
      ]
     },
     "metadata": {},
     "output_type": "display_data"
    },
    {
     "name": "stderr",
     "output_type": "stream",
     "text": [
      "Exception ignored in: <function _MultiProcessingDataLoaderIter.__del__ at 0x7fc9f8931090>\n",
      "Traceback (most recent call last):\n",
      "  File \"/mnt/d/Meet/Company/Orange Eva Publication/Jupyter Notebook/onnx_env/lib/python3.10/site-packages/torch/utils/data/dataloader.py\", line 1618, in __del__\n",
      "    self._shutdown_workers()\n",
      "  File \"/mnt/d/Meet/Company/Orange Eva Publication/Jupyter Notebook/onnx_env/lib/python3.10/site-packages/torch/utils/data/dataloader.py\", line 1601, in _shutdown_workers\n",
      "Exception ignored in: <function _MultiProcessingDataLoaderIter.__del__ at 0x7fc9f8931090>\n",
      "Traceback (most recent call last):\n",
      "      File \"/mnt/d/Meet/Company/Orange Eva Publication/Jupyter Notebook/onnx_env/lib/python3.10/site-packages/torch/utils/data/dataloader.py\", line 1618, in __del__\n",
      "if w.is_alive():\n",
      "  File \"/usr/lib/python3.10/multiprocessing/process.py\", line 160, in is_alive\n",
      "    assert self._parent_pid == os.getpid(), 'can only test a child process'\n",
      "    AssertionErrorself._shutdown_workers(): can only test a child process\n",
      "\n",
      "  File \"/mnt/d/Meet/Company/Orange Eva Publication/Jupyter Notebook/onnx_env/lib/python3.10/site-packages/torch/utils/data/dataloader.py\", line 1601, in _shutdown_workers\n",
      "Exception ignored in: <function _MultiProcessingDataLoaderIter.__del__ at 0x7fc9f8931090>\n",
      "Traceback (most recent call last):\n",
      "      File \"/mnt/d/Meet/Company/Orange Eva Publication/Jupyter Notebook/onnx_env/lib/python3.10/site-packages/torch/utils/data/dataloader.py\", line 1618, in __del__\n",
      "if w.is_alive():\n",
      "  File \"/usr/lib/python3.10/multiprocessing/process.py\", line 160, in is_alive\n",
      "    assert self._parent_pid == os.getpid(), 'can only test a child process'\n",
      "    AssertionErrorself._shutdown_workers(): \n",
      "can only test a child process  File \"/mnt/d/Meet/Company/Orange Eva Publication/Jupyter Notebook/onnx_env/lib/python3.10/site-packages/torch/utils/data/dataloader.py\", line 1601, in _shutdown_workers\n",
      "\n",
      "Exception ignored in: <function _MultiProcessingDataLoaderIter.__del__ at 0x7fc9f8931090>\n",
      "    Traceback (most recent call last):\n",
      "if w.is_alive():  File \"/mnt/d/Meet/Company/Orange Eva Publication/Jupyter Notebook/onnx_env/lib/python3.10/site-packages/torch/utils/data/dataloader.py\", line 1618, in __del__\n",
      "\n",
      "  File \"/usr/lib/python3.10/multiprocessing/process.py\", line 160, in is_alive\n",
      "    assert self._parent_pid == os.getpid(), 'can only test a child process'\n",
      "AssertionError    : self._shutdown_workers()can only test a child process\n",
      "\n",
      "  File \"/mnt/d/Meet/Company/Orange Eva Publication/Jupyter Notebook/onnx_env/lib/python3.10/site-packages/torch/utils/data/dataloader.py\", line 1601, in _shutdown_workers\n",
      "Exception ignored in: <function _MultiProcessingDataLoaderIter.__del__ at 0x7fc9f8931090>\n",
      "    Traceback (most recent call last):\n",
      "if w.is_alive():  File \"/mnt/d/Meet/Company/Orange Eva Publication/Jupyter Notebook/onnx_env/lib/python3.10/site-packages/torch/utils/data/dataloader.py\", line 1618, in __del__\n",
      "\n",
      "  File \"/usr/lib/python3.10/multiprocessing/process.py\", line 160, in is_alive\n",
      "    assert self._parent_pid == os.getpid(), 'can only test a child process'\n",
      "AssertionError    : self._shutdown_workers()\n",
      "can only test a child process  File \"/mnt/d/Meet/Company/Orange Eva Publication/Jupyter Notebook/onnx_env/lib/python3.10/site-packages/torch/utils/data/dataloader.py\", line 1601, in _shutdown_workers\n",
      "\n",
      "Exception ignored in: <function _MultiProcessingDataLoaderIter.__del__ at 0x7fc9f8931090>    \n",
      "if w.is_alive():Traceback (most recent call last):\n",
      "\n",
      "  File \"/mnt/d/Meet/Company/Orange Eva Publication/Jupyter Notebook/onnx_env/lib/python3.10/site-packages/torch/utils/data/dataloader.py\", line 1618, in __del__\n",
      "  File \"/usr/lib/python3.10/multiprocessing/process.py\", line 160, in is_alive\n",
      "    assert self._parent_pid == os.getpid(), 'can only test a child process'\n",
      "AssertionError:     can only test a child processself._shutdown_workers()\n",
      "\n",
      "  File \"/mnt/d/Meet/Company/Orange Eva Publication/Jupyter Notebook/onnx_env/lib/python3.10/site-packages/torch/utils/data/dataloader.py\", line 1601, in _shutdown_workers\n",
      "Exception ignored in: <function _MultiProcessingDataLoaderIter.__del__ at 0x7fc9f8931090>\n",
      "Traceback (most recent call last):\n",
      "Exception ignored in:   File \"/mnt/d/Meet/Company/Orange Eva Publication/Jupyter Notebook/onnx_env/lib/python3.10/site-packages/torch/utils/data/dataloader.py\", line 1618, in __del__\n",
      "<function _MultiProcessingDataLoaderIter.__del__ at 0x7fc9f8931090>\n",
      "Traceback (most recent call last):\n",
      "      File \"/mnt/d/Meet/Company/Orange Eva Publication/Jupyter Notebook/onnx_env/lib/python3.10/site-packages/torch/utils/data/dataloader.py\", line 1618, in __del__\n",
      "if w.is_alive():\n",
      "      File \"/usr/lib/python3.10/multiprocessing/process.py\", line 160, in is_alive\n",
      "self._shutdown_workers()    \n",
      "assert self._parent_pid == os.getpid(), 'can only test a child process'  File \"/mnt/d/Meet/Company/Orange Eva Publication/Jupyter Notebook/onnx_env/lib/python3.10/site-packages/torch/utils/data/dataloader.py\", line 1601, in _shutdown_workers\n",
      "\n",
      "    AssertionErrorself._shutdown_workers(): \n",
      "can only test a child process  File \"/mnt/d/Meet/Company/Orange Eva Publication/Jupyter Notebook/onnx_env/lib/python3.10/site-packages/torch/utils/data/dataloader.py\", line 1601, in _shutdown_workers\n",
      "\n",
      "Exception ignored in: <function _MultiProcessingDataLoaderIter.__del__ at 0x7fc9f8931090>    \n",
      "if w.is_alive():    \n",
      "Traceback (most recent call last):\n",
      "if w.is_alive():  File \"/usr/lib/python3.10/multiprocessing/process.py\", line 160, in is_alive\n",
      "\n",
      "  File \"/mnt/d/Meet/Company/Orange Eva Publication/Jupyter Notebook/onnx_env/lib/python3.10/site-packages/torch/utils/data/dataloader.py\", line 1618, in __del__\n",
      "      File \"/usr/lib/python3.10/multiprocessing/process.py\", line 160, in is_alive\n",
      "assert self._parent_pid == os.getpid(), 'can only test a child process'\n",
      "    AssertionErrorassert self._parent_pid == os.getpid(), 'can only test a child process': \n",
      "can only test a child processAssertionError\n",
      "    : self._shutdown_workers()can only test a child process\n",
      "\n",
      "Exception ignored in:   File \"/mnt/d/Meet/Company/Orange Eva Publication/Jupyter Notebook/onnx_env/lib/python3.10/site-packages/torch/utils/data/dataloader.py\", line 1601, in _shutdown_workers\n",
      "Exception ignored in: <function _MultiProcessingDataLoaderIter.__del__ at 0x7fc9f8931090><function _MultiProcessingDataLoaderIter.__del__ at 0x7fc9f8931090>\n",
      "\n",
      "Traceback (most recent call last):\n",
      "Traceback (most recent call last):\n",
      "  File \"/mnt/d/Meet/Company/Orange Eva Publication/Jupyter Notebook/onnx_env/lib/python3.10/site-packages/torch/utils/data/dataloader.py\", line 1618, in __del__\n",
      "  File \"/mnt/d/Meet/Company/Orange Eva Publication/Jupyter Notebook/onnx_env/lib/python3.10/site-packages/torch/utils/data/dataloader.py\", line 1618, in __del__\n",
      "        self._shutdown_workers()if w.is_alive():    \n",
      "self._shutdown_workers()\n",
      "  File \"/usr/lib/python3.10/multiprocessing/process.py\", line 160, in is_alive\n",
      "  File \"/mnt/d/Meet/Company/Orange Eva Publication/Jupyter Notebook/onnx_env/lib/python3.10/site-packages/torch/utils/data/dataloader.py\", line 1601, in _shutdown_workers\n",
      "    \n",
      "assert self._parent_pid == os.getpid(), 'can only test a child process'  File \"/mnt/d/Meet/Company/Orange Eva Publication/Jupyter Notebook/onnx_env/lib/python3.10/site-packages/torch/utils/data/dataloader.py\", line 1601, in _shutdown_workers\n",
      "\n",
      "    AssertionError    if w.is_alive():: if w.is_alive():\n",
      "can only test a child process\n",
      "  File \"/usr/lib/python3.10/multiprocessing/process.py\", line 160, in is_alive\n",
      "\n",
      "  File \"/usr/lib/python3.10/multiprocessing/process.py\", line 160, in is_alive\n",
      "    assert self._parent_pid == os.getpid(), 'can only test a child process'    \n",
      "assert self._parent_pid == os.getpid(), 'can only test a child process'Exception ignored in: AssertionError\n",
      "<function _MultiProcessingDataLoaderIter.__del__ at 0x7fc9f8931090>: AssertionError\n",
      ": can only test a child processcan only test a child processTraceback (most recent call last):\n",
      "\n",
      "  File \"/mnt/d/Meet/Company/Orange Eva Publication/Jupyter Notebook/onnx_env/lib/python3.10/site-packages/torch/utils/data/dataloader.py\", line 1618, in __del__\n",
      "\n",
      "Exception ignored in: <function _MultiProcessingDataLoaderIter.__del__ at 0x7fc9f8931090>    \n",
      "self._shutdown_workers()Traceback (most recent call last):\n",
      "\n",
      "  File \"/mnt/d/Meet/Company/Orange Eva Publication/Jupyter Notebook/onnx_env/lib/python3.10/site-packages/torch/utils/data/dataloader.py\", line 1618, in __del__\n",
      "  File \"/mnt/d/Meet/Company/Orange Eva Publication/Jupyter Notebook/onnx_env/lib/python3.10/site-packages/torch/utils/data/dataloader.py\", line 1601, in _shutdown_workers\n",
      "Exception ignored in:         if w.is_alive():<function _MultiProcessingDataLoaderIter.__del__ at 0x7fc9f8931090>self._shutdown_workers()\n",
      "\n",
      "\n",
      "Traceback (most recent call last):\n",
      "  File \"/usr/lib/python3.10/multiprocessing/process.py\", line 160, in is_alive\n",
      "  File \"/mnt/d/Meet/Company/Orange Eva Publication/Jupyter Notebook/onnx_env/lib/python3.10/site-packages/torch/utils/data/dataloader.py\", line 1601, in _shutdown_workers\n",
      "  File \"/mnt/d/Meet/Company/Orange Eva Publication/Jupyter Notebook/onnx_env/lib/python3.10/site-packages/torch/utils/data/dataloader.py\", line 1618, in __del__\n",
      "    assert self._parent_pid == os.getpid(), 'can only test a child process'\n",
      "AssertionError:     can only test a child process    if w.is_alive():\n",
      "self._shutdown_workers()\n",
      "\n",
      "  File \"/usr/lib/python3.10/multiprocessing/process.py\", line 160, in is_alive\n",
      "  File \"/mnt/d/Meet/Company/Orange Eva Publication/Jupyter Notebook/onnx_env/lib/python3.10/site-packages/torch/utils/data/dataloader.py\", line 1601, in _shutdown_workers\n",
      "    assert self._parent_pid == os.getpid(), 'can only test a child process'\n",
      "AssertionError: can only test a child process    \n",
      "if w.is_alive():\n",
      "Exception ignored in:   File \"/usr/lib/python3.10/multiprocessing/process.py\", line 160, in is_alive\n",
      "<function _MultiProcessingDataLoaderIter.__del__ at 0x7fc9f8931090>    assert self._parent_pid == os.getpid(), 'can only test a child process'\n",
      "\n",
      "Traceback (most recent call last):\n",
      "AssertionError  File \"/mnt/d/Meet/Company/Orange Eva Publication/Jupyter Notebook/onnx_env/lib/python3.10/site-packages/torch/utils/data/dataloader.py\", line 1618, in __del__\n",
      ": can only test a child process\n",
      "Exception ignored in:     <function _MultiProcessingDataLoaderIter.__del__ at 0x7fc9f8931090>self._shutdown_workers()Traceback (most recent call last):\n",
      "\n",
      "\n",
      "  File \"/mnt/d/Meet/Company/Orange Eva Publication/Jupyter Notebook/onnx_env/lib/python3.10/site-packages/torch/utils/data/dataloader.py\", line 1601, in _shutdown_workers\n",
      "  File \"/mnt/d/Meet/Company/Orange Eva Publication/Jupyter Notebook/onnx_env/lib/python3.10/site-packages/torch/utils/data/dataloader.py\", line 1618, in __del__\n",
      "        self._shutdown_workers()if w.is_alive():\n",
      "\n",
      "  File \"/mnt/d/Meet/Company/Orange Eva Publication/Jupyter Notebook/onnx_env/lib/python3.10/site-packages/torch/utils/data/dataloader.py\", line 1601, in _shutdown_workers\n",
      "  File \"/usr/lib/python3.10/multiprocessing/process.py\", line 160, in is_alive\n",
      "    if w.is_alive():    assert self._parent_pid == os.getpid(), 'can only test a child process'\n",
      "\n",
      "  File \"/usr/lib/python3.10/multiprocessing/process.py\", line 160, in is_alive\n",
      "AssertionError    : assert self._parent_pid == os.getpid(), 'can only test a child process'\n",
      "can only test a child process\n",
      "AssertionError: can only test a child processException ignored in: \n",
      "<function _MultiProcessingDataLoaderIter.__del__ at 0x7fc9f8931090>\n",
      "Traceback (most recent call last):\n",
      "Exception ignored in:   File \"/mnt/d/Meet/Company/Orange Eva Publication/Jupyter Notebook/onnx_env/lib/python3.10/site-packages/torch/utils/data/dataloader.py\", line 1618, in __del__\n",
      "<function _MultiProcessingDataLoaderIter.__del__ at 0x7fc9f8931090>\n",
      "Traceback (most recent call last):\n",
      "  File \"/mnt/d/Meet/Company/Orange Eva Publication/Jupyter Notebook/onnx_env/lib/python3.10/site-packages/torch/utils/data/dataloader.py\", line 1618, in __del__\n",
      "    self._shutdown_workers()\n",
      "  File \"/mnt/d/Meet/Company/Orange Eva Publication/Jupyter Notebook/onnx_env/lib/python3.10/site-packages/torch/utils/data/dataloader.py\", line 1601, in _shutdown_workers\n",
      "    self._shutdown_workers()\n",
      "  File \"/mnt/d/Meet/Company/Orange Eva Publication/Jupyter Notebook/onnx_env/lib/python3.10/site-packages/torch/utils/data/dataloader.py\", line 1601, in _shutdown_workers\n",
      "    if w.is_alive():\n",
      "      File \"/usr/lib/python3.10/multiprocessing/process.py\", line 160, in is_alive\n",
      "if w.is_alive():    \n",
      "assert self._parent_pid == os.getpid(), 'can only test a child process'  File \"/usr/lib/python3.10/multiprocessing/process.py\", line 160, in is_alive\n",
      "\n",
      "    AssertionErrorassert self._parent_pid == os.getpid(), 'can only test a child process': \n",
      "can only test a child processAssertionError\n",
      ": can only test a child process\n",
      "Exception ignored in: <function _MultiProcessingDataLoaderIter.__del__ at 0x7fc9f8931090>\n",
      "Traceback (most recent call last):\n",
      "  File \"/mnt/d/Meet/Company/Orange Eva Publication/Jupyter Notebook/onnx_env/lib/python3.10/site-packages/torch/utils/data/dataloader.py\", line 1618, in __del__\n",
      "    self._shutdown_workers()\n",
      "  File \"/mnt/d/Meet/Company/Orange Eva Publication/Jupyter Notebook/onnx_env/lib/python3.10/site-packages/torch/utils/data/dataloader.py\", line 1601, in _shutdown_workers\n",
      "    if w.is_alive():\n",
      "  File \"/usr/lib/python3.10/multiprocessing/process.py\", line 160, in is_alive\n",
      "    assert self._parent_pid == os.getpid(), 'can only test a child process'\n",
      "AssertionError: can only test a child process\n",
      "Exception ignored in: <function _MultiProcessingDataLoaderIter.__del__ at 0x7fc9f8931090>\n",
      "Traceback (most recent call last):\n",
      "  File \"/mnt/d/Meet/Company/Orange Eva Publication/Jupyter Notebook/onnx_env/lib/python3.10/site-packages/torch/utils/data/dataloader.py\", line 1618, in __del__\n",
      "    self._shutdown_workers()\n",
      "  File \"/mnt/d/Meet/Company/Orange Eva Publication/Jupyter Notebook/onnx_env/lib/python3.10/site-packages/torch/utils/data/dataloader.py\", line 1601, in _shutdown_workers\n",
      "    if w.is_alive():\n",
      "  File \"/usr/lib/python3.10/multiprocessing/process.py\", line 160, in is_alive\n",
      "    assert self._parent_pid == os.getpid(), 'can only test a child process'\n",
      "AssertionError: can only test a child process\n"
     ]
    },
    {
     "name": "stdout",
     "output_type": "stream",
     "text": [
      "Test Accuracy: 95.39%\n",
      "Accuracy before pruning: 95.39%\n"
     ]
    }
   ],
   "source": [
    "# Train model on Cats v/s Dogs dataset.\n",
    "base_model = ResNetClassifier(None).to(DEVICE)\n",
    "\n",
    "base_trainer = Trainer(\n",
    "    base_model, train_dataset, test_dataset, BATCH_SIZE, NUM_WORKERS, \n",
    "    EPOCHS, LR, DEVICE, MODEL_NAME\n",
    ")\n",
    "base_trainer.fit()\n",
    "base_acc = base_trainer.test()\n",
    "print(f\"Accuracy before pruning: {base_acc:.2f}%\")"
   ]
  },
  {
   "cell_type": "markdown",
   "id": "54914c3d-eb07-4ff9-9e03-1efe53f60e1d",
   "metadata": {},
   "source": [
    "### Step-2: Define some helper functions"
   ]
  },
  {
   "cell_type": "code",
   "execution_count": 8,
   "id": "1913df30-af27-4e49-bb8c-c5df4e53c700",
   "metadata": {},
   "outputs": [],
   "source": [
    "# Compute overall model sparsity for unstructured pruning\n",
    "def compute_global_sparsity(model):\n",
    "    total_params = 0\n",
    "    zero_params = 0\n",
    "\n",
    "    for name, module in model.named_modules():\n",
    "        if isinstance(module, nn.CrossEntropyLoss):\n",
    "            continue\n",
    "        if hasattr(module, \"weight\"):\n",
    "            total_params += module.weight.nelement()  # Total elements\n",
    "            zero_params += torch.sum(module.weight == 0).item()  # Zero elements\n",
    "        elif hasattr(module, \"bias\") and module.bias is not None:\n",
    "            total_params += module.bias.nelement()  # Total elements\n",
    "            zero_params += torch.sum(module.bias == 0).item()  # Zero elements\n",
    "\n",
    "    sparsity = zero_params / total_params * 100\n",
    "    return sparsity\n",
    "\n",
    "# Compute overall model's structured sparsity against base model\n",
    "def compute_structured_sparsity(base_model, pruned_model):\n",
    "    def compute_params(model):\n",
    "        model_params = 0\n",
    "        for name, module in model.named_modules():\n",
    "            if isinstance(module, torch.nn.CrossEntropyLoss):\n",
    "                continue\n",
    "            if hasattr(module, \"weight\"):\n",
    "                model_params += module.weight.nelement()  # Total elements\n",
    "            elif hasattr(module, \"bias\") and module.bias is not None:\n",
    "                model_params += module.bias.nelement()  # Total elements\n",
    "        return model_params\n",
    "\n",
    "    base_model_params = compute_params(base_model)\n",
    "    pruned_model_params = compute_params(pruned_model)\n",
    "\n",
    "    sparsity = pruned_model_params / base_model_params\n",
    "    return sparsity, base_model_params, pruned_model_params"
   ]
  },
  {
   "cell_type": "code",
   "execution_count": 9,
   "id": "85fb70f2-c744-46bd-b80b-1adc946581f0",
   "metadata": {},
   "outputs": [],
   "source": [
    "# Helper utility to export the model\n",
    "\n",
    "def export_to_onnx(model, output_path):\n",
    "    # Dummy input tensor for ONNX export\n",
    "    dummy_input = torch.randn(1, 3, 224, 224)\n",
    "    model.to(\"cpu\")\n",
    "\n",
    "    # Export the pruned model to ONNX\n",
    "    torch.onnx.export(\n",
    "        model, dummy_input, output_path,\n",
    "        input_names=[\"input\"], output_names=[\"output\"],\n",
    "        dynamic_axes={\"input\": {0: \"batch_size\"}, \"output\": {0: \"batch_size\"}},\n",
    "        opset_version=11\n",
    "    )\n",
    "\n",
    "    print(f\"Model has been exported to {output_path}\")"
   ]
  },
  {
   "cell_type": "code",
   "execution_count": 10,
   "id": "c068e07b-0356-4b6c-a0a6-9fb073fcce42",
   "metadata": {},
   "outputs": [
    {
     "name": "stdout",
     "output_type": "stream",
     "text": [
      "Model has been exported to ./resnet50_cats_vs_dogs_unpruned.onnx\n"
     ]
    }
   ],
   "source": [
    "# Export original unpruned model\n",
    "export_to_onnx(base_model, \"./resnet50_cats_vs_dogs_unpruned.onnx\")"
   ]
  },
  {
   "cell_type": "markdown",
   "id": "09f5654f-1fa4-43ba-862f-03c31481a488",
   "metadata": {},
   "source": [
    "### Step-3: Apply Unstructured Pruning on trained ResNet50 model"
   ]
  },
  {
   "cell_type": "code",
   "execution_count": 11,
   "id": "7ec72da2-3c9a-4fd7-af61-fe6f1be95f61",
   "metadata": {},
   "outputs": [],
   "source": [
    "# We will prune away 40 % of the weights.\n",
    "unstructured_prune_ratio = 0.4"
   ]
  },
  {
   "cell_type": "code",
   "execution_count": 12,
   "id": "f98ecf88-3d45-4873-bd76-0561c2c78b46",
   "metadata": {},
   "outputs": [],
   "source": [
    "# We will apply unstructured pruning to all the convolution layer weights.\n",
    "\n",
    "def apply_unstructured_pruning(model, prune_ratio=0.2):\n",
    "    for name, module in model.named_modules():\n",
    "        if isinstance(module, torch.nn.Conv2d):\n",
    "            prune.l1_unstructured(module, name='weight', amount=prune_ratio)\n",
    "    \n",
    "    return model\n",
    "\n",
    "def update_model_post_pruning(model):\n",
    "    # To remove pruning reparameterization and store permanently\n",
    "    for name, module in model.named_modules():\n",
    "        if isinstance(module, torch.nn.Conv2d):\n",
    "            prune.remove(module, 'weight')\n",
    "    \n",
    "    return model"
   ]
  },
  {
   "cell_type": "code",
   "execution_count": 13,
   "id": "0934a40e-336f-4a47-8ce4-02271b5a6882",
   "metadata": {},
   "outputs": [
    {
     "data": {
      "application/vnd.jupyter.widget-view+json": {
       "model_id": "393c8175f60b43c8ad7f3b28c2a16aa1",
       "version_major": 2,
       "version_minor": 0
      },
      "text/plain": [
       "  0%|          | 0/147 [00:00<?, ?it/s]"
      ]
     },
     "metadata": {},
     "output_type": "display_data"
    },
    {
     "name": "stdout",
     "output_type": "stream",
     "text": [
      "Test Accuracy: 95.11%\n",
      "Unstructured pruning ratio: 0.40\n",
      "Model's overall sparsity: 39.95 %\n",
      "Accuracy after applying unstructured pruning: 95.11%\n"
     ]
    }
   ],
   "source": [
    "# Pruned model\n",
    "unstructured_pruned_model = copy.deepcopy(base_model)\n",
    "unstructured_pruned_model = apply_unstructured_pruning(unstructured_pruned_model, unstructured_prune_ratio)\n",
    "unstructured_pruned_model_name = \"resnet50_cats_dogs_unstructured_prune\"\n",
    "\n",
    "unstructured_prune_trainer = Trainer(\n",
    "    unstructured_pruned_model, train_dataset, test_dataset, BATCH_SIZE, NUM_WORKERS, \n",
    "    EPOCHS, LR, DEVICE, unstructured_pruned_model_name\n",
    ")\n",
    "unstructured_pruned_acc = unstructured_prune_trainer.test()\n",
    "model_sparsity = compute_global_sparsity(unstructured_pruned_model)\n",
    "\n",
    "print(f\"Unstructured pruning ratio: {unstructured_prune_ratio:.2f}\")\n",
    "print(f\"Model's overall sparsity: {model_sparsity:.2f} %\")\n",
    "print(f\"Accuracy after applying unstructured pruning: {unstructured_pruned_acc:.2f}%\")"
   ]
  },
  {
   "cell_type": "markdown",
   "id": "3fefb8db-67bd-49d9-a7f5-c21ac8dfd3f0",
   "metadata": {},
   "source": [
    "#### The pruned model has 40% of its weights set to zero, yet the accuracy remains largely unchanged. It dropped only slightly from 95.39% to 95.11%, resulting in a minimal 0.28% decrease. This indicates that the ResNet50 architecture is highly overparameterized for a relatively simple task like the Cats vs. Dogs classification. Such a minimal accuracy loss does not necessitate finetuning the model post-pruning. However, for more complex use cases, finetuning may be required after pruning to recover any significant loss in performance."
   ]
  },
  {
   "cell_type": "code",
   "execution_count": 14,
   "id": "4b87cc1f-d5fb-4271-9f20-698544aa75e9",
   "metadata": {},
   "outputs": [
    {
     "name": "stdout",
     "output_type": "stream",
     "text": [
      "Weights before pruning\n",
      "tensor([[[[-0.0064]],\n",
      "\n",
      "         [[ 0.0312]],\n",
      "\n",
      "         [[-0.0454]]],\n",
      "\n",
      "\n",
      "        [[[ 0.1461]],\n",
      "\n",
      "         [[-0.0112]],\n",
      "\n",
      "         [[ 0.0454]]],\n",
      "\n",
      "\n",
      "        [[[-0.0481]],\n",
      "\n",
      "         [[-0.0449]],\n",
      "\n",
      "         [[-0.0237]]]])\n",
      "\n",
      "Shape of the weight before pruning\n",
      "torch.Size([64, 64, 1, 1])\n"
     ]
    }
   ],
   "source": [
    "# Check weights of the original model for one of the layer of model.\n",
    "\n",
    "print(\"Weights before pruning\")\n",
    "print(base_model.model.layer1[0].conv1.weight.data[:3, :3, :, :])\n",
    "print(\"\\nShape of the weight before pruning\")\n",
    "print(base_model.model.layer1[0].conv1.weight.data.shape)"
   ]
  },
  {
   "cell_type": "code",
   "execution_count": 15,
   "id": "5931ef0a-d281-47ed-ad35-c3097cc0e477",
   "metadata": {},
   "outputs": [
    {
     "name": "stdout",
     "output_type": "stream",
     "text": [
      "Weight mask for unstructured pruning\n",
      "tensor([[[[0.]],\n",
      "\n",
      "         [[1.]],\n",
      "\n",
      "         [[1.]]],\n",
      "\n",
      "\n",
      "        [[[1.]],\n",
      "\n",
      "         [[0.]],\n",
      "\n",
      "         [[1.]]],\n",
      "\n",
      "\n",
      "        [[[1.]],\n",
      "\n",
      "         [[1.]],\n",
      "\n",
      "         [[1.]]]], device='cuda:0')\n",
      "\n",
      "Weights after unstructured pruning\n",
      "tensor([[[[-0.0000]],\n",
      "\n",
      "         [[ 0.0312]],\n",
      "\n",
      "         [[-0.0454]]],\n",
      "\n",
      "\n",
      "        [[[ 0.1461]],\n",
      "\n",
      "         [[-0.0000]],\n",
      "\n",
      "         [[ 0.0454]]],\n",
      "\n",
      "\n",
      "        [[[-0.0481]],\n",
      "\n",
      "         [[-0.0449]],\n",
      "\n",
      "         [[-0.0237]]]], device='cuda:0')\n",
      "\n",
      "Shape of the weight after pruning\n",
      "torch.Size([64, 64, 1, 1])\n"
     ]
    }
   ],
   "source": [
    "# Check weights of the pruned model for one of the layer of model.\n",
    "\n",
    "print(\"Weight mask for unstructured pruning\")\n",
    "print(unstructured_pruned_model.model.layer1[0].conv1.weight_mask.data[:3, :3, :, :])\n",
    "print(\"\\nWeights after unstructured pruning\")\n",
    "print(unstructured_pruned_model.model.layer1[0].conv1.weight.data[:3, :3, :, :])\n",
    "print(\"\\nShape of the weight after pruning\")\n",
    "print(unstructured_pruned_model.model.layer1[0].conv1.weight.data.shape)"
   ]
  },
  {
   "cell_type": "code",
   "execution_count": 16,
   "id": "1e69d6fa-9328-4ec0-9160-832d60351b53",
   "metadata": {},
   "outputs": [],
   "source": [
    "# Remove the weight masks and update the weights inplace.\n",
    "unstructured_pruned_model = update_model_post_pruning(unstructured_pruned_model)"
   ]
  },
  {
   "cell_type": "code",
   "execution_count": 17,
   "id": "b30f708a-36c3-4f2f-8483-602e05a41669",
   "metadata": {},
   "outputs": [
    {
     "name": "stdout",
     "output_type": "stream",
     "text": [
      "Model has been exported to ./resnet50_cats_vs_dogs_unstructured_pruned.onnx\n"
     ]
    }
   ],
   "source": [
    "# Export unstructured pruned model\n",
    "export_to_onnx(unstructured_pruned_model, \"./resnet50_cats_vs_dogs_unstructured_pruned.onnx\")"
   ]
  },
  {
   "cell_type": "markdown",
   "id": "7c2ef472-ec03-4bd4-8f5c-2099cba22b73",
   "metadata": {},
   "source": [
    "### Step-4: Apply Structured Pruning on trained ResNet50 model"
   ]
  },
  {
   "cell_type": "code",
   "execution_count": 18,
   "id": "e7c292de-a3e0-47ab-9141-6ff07c3649f7",
   "metadata": {},
   "outputs": [],
   "source": [
    "# Defining some helper functions\n",
    "\n",
    "def update_remaining_channels(name, module, channel_mask, in_channel=True):\n",
    "    mask = module.weight_mask\n",
    "    channel = \"input\" if in_channel else \"output\"\n",
    "    weight_shape = len(mask.shape)\n",
    "    if in_channel:\n",
    "        if weight_shape == 4:\n",
    "            # out_channel, in_channel, k_height, k_width --> Conv layer\n",
    "            dim = [0, 2, 3]\n",
    "        else:\n",
    "            # out_channel, in_channel --> FC layer\n",
    "            dim = [0]\n",
    "        remaining_out_channels = torch.sum(mask, dim=dim) > 0\n",
    "    else:\n",
    "        if weight_shape == 4:\n",
    "            # out_channel, in_channel, k_height, k_width --> Conv layer\n",
    "            dim = [1, 2, 3]\n",
    "        else:\n",
    "            # out_channel, in_channel --> FC layer\n",
    "            dim = [1]\n",
    "        remaining_out_channels = torch.sum(mask, dim=dim) > 0\n",
    "    channel_mask[name][channel] = remaining_out_channels\n",
    "\n",
    "\n",
    "def prune_weights(name, module, prune_ratio, channel_mask, in_channel=True):\n",
    "    dim = 1 if in_channel else 0\n",
    "    # ln_structured will identify redundant input or output channels from the weights.\n",
    "    prune.ln_structured(module, name=\"weight\", amount=prune_ratio, n=1, dim=dim)\n",
    "    update_remaining_channels(name, module, channel_mask, in_channel)\n"
   ]
  },
  {
   "cell_type": "markdown",
   "id": "a0bfa308-7322-457e-93b1-0fec3e04d356",
   "metadata": {},
   "source": [
    "#### Here we are only pruning the layer4 and FC layer of the ResNet50 model. The code applies the structured pruning to the out channels of the first conv layer of layer4. Due to change in the out channels, the next layer will become incompatible to this layer. Hence, we will cascade this change and prune the next layer's input channels as well. Once we do that we will also update next layer's output channels to further prune the model. We will apply cascading changes to all the subsequent layers.\n"
   ]
  },
  {
   "cell_type": "code",
   "execution_count": 19,
   "id": "67f7cfba-dcec-4721-99e1-709f33ae2ee5",
   "metadata": {},
   "outputs": [],
   "source": [
    "# Helper function to apply structured pruning. \n",
    "\n",
    "def apply_structured_pruning(base_model, prune_ratio):\n",
    "    pruned_model = copy.deepcopy(base_model)\n",
    "\n",
    "    # Apply structured pruning and store pruned channels\n",
    "    channel_mask = defaultdict(dict)  # Dictionary to store pruned channels per layer\n",
    "    module_dict = {}\n",
    "\n",
    "    for name, module in pruned_model.model.named_modules():\n",
    "        if (\n",
    "            name == \"conv1\"\n",
    "            or name.startswith(\"layer1\")\n",
    "            or name.startswith(\"layer2\")\n",
    "            or name.startswith(\"layer3\")\n",
    "        ):\n",
    "            continue\n",
    "        module_dict[name] = module\n",
    "        if isinstance(module, nn.Conv2d):\n",
    "            # Update out channel\n",
    "            prune_weights(name, module, prune_ratio, channel_mask, False)\n",
    "            if (\n",
    "                name != \"conv1\"\n",
    "                and name != \"layer4.0.conv1\"\n",
    "                and name != \"layer4.0.downsample.0\"\n",
    "            ):\n",
    "                # Update in channel\n",
    "                prune_weights(name, module, prune_ratio, channel_mask, True)\n",
    "\n",
    "        elif isinstance(module, nn.Linear):\n",
    "            if name == \"fc\":\n",
    "                # Update in channel\n",
    "                prune_weights(name, module, prune_ratio, channel_mask, True)\n",
    "\n",
    "    existing_modules = list(pruned_model.model.named_modules())\n",
    "    for name, module in tqdm(existing_modules):\n",
    "        if (\n",
    "            name == \"conv1\"\n",
    "            or name == \"bn1\"\n",
    "            or name.startswith(\"layer1\")\n",
    "            or name.startswith(\"layer2\")\n",
    "            or name.startswith(\"layer3\")\n",
    "        ):\n",
    "            continue\n",
    "        if name in channel_mask and isinstance(module, nn.Conv2d):\n",
    "            channel_dict = channel_mask[name]\n",
    "            if \"input\" in channel_dict:\n",
    "                new_in_channels = (\n",
    "                    channel_dict[\"input\"].sum().item()\n",
    "                )  # Count remaining filters\n",
    "            else:\n",
    "                new_in_channels = module.in_channels\n",
    "\n",
    "            if \"output\" in channel_dict:\n",
    "                new_out_channels = (\n",
    "                    channel_dict[\"output\"].sum().item()\n",
    "                )  # Count remaining filters\n",
    "            else:\n",
    "                new_out_channels = module.out_channels\n",
    "\n",
    "            new_conv2d = nn.Conv2d(\n",
    "                in_channels=new_in_channels,\n",
    "                out_channels=new_out_channels,\n",
    "                kernel_size=module.kernel_size,\n",
    "                stride=module.stride,\n",
    "                padding=module.padding,\n",
    "                dilation=module.dilation,\n",
    "                groups=module.groups,\n",
    "                bias=module.bias,\n",
    "                padding_mode=module.padding_mode,\n",
    "            )\n",
    "            if \"input\" in channel_dict:\n",
    "                new_conv2d.weight.data = module.weight.data[\n",
    "                    :, channel_dict[\"input\"], :, :\n",
    "                ].clone()\n",
    "\n",
    "            if \"output\" in channel_dict:\n",
    "                if \"input\" in channel_dict:\n",
    "                    new_conv2d.weight.data = new_conv2d.weight.data[\n",
    "                        channel_dict[\"output\"]\n",
    "                    ].clone()\n",
    "                    if module.bias is not None:\n",
    "                        new_conv2d.bias.data = new_conv2d.bias.data[\n",
    "                            channel_dict[\"output\"]\n",
    "                        ].clone()\n",
    "                else:\n",
    "                    new_conv2d.weight.data = module.weight.data[\n",
    "                        channel_dict[\"output\"]\n",
    "                    ].clone()\n",
    "                    if module.bias is not None:\n",
    "                        new_conv2d.bias.data = module.bias.data[\n",
    "                            channel_dict[\"output\"]\n",
    "                        ].clone()\n",
    "\n",
    "            if name.startswith(\"layer\"):\n",
    "                splits = name.split(\".\")\n",
    "                layer_idx, sub_layer_idx, conv_name = splits[:3]\n",
    "                if len(splits) == 4:\n",
    "                    downsample_idx = splits[3]\n",
    "                    par_module = getattr(\n",
    "                        getattr(getattr(pruned_model.model, layer_idx), sub_layer_idx),\n",
    "                        conv_name,\n",
    "                    )\n",
    "                    setattr(par_module, downsample_idx, new_conv2d)\n",
    "                else:\n",
    "                    par_module = getattr(\n",
    "                        getattr(pruned_model.model, layer_idx), sub_layer_idx\n",
    "                    )\n",
    "                    setattr(par_module, conv_name, new_conv2d)\n",
    "            else:\n",
    "                setattr(pruned_model.model, name, new_conv2d)\n",
    "\n",
    "        if isinstance(module, nn.BatchNorm2d):\n",
    "            if \"downsample\" in name:\n",
    "                conv_name = name.replace(\"downsample.1\", \"downsample.0\")\n",
    "            else:\n",
    "                conv_name = name.replace(\"bn\", \"conv\")\n",
    "\n",
    "            channel_dict = channel_mask[conv_name]\n",
    "            if \"output\" in channel_dict:\n",
    "                new_out_channels = (\n",
    "                    channel_dict[\"output\"].sum().item()\n",
    "                )  # Count remaining filters\n",
    "\n",
    "                new_bn = nn.BatchNorm2d(\n",
    "                    num_features=new_out_channels,\n",
    "                    eps=module.eps,\n",
    "                    momentum=module.momentum,\n",
    "                    affine=module.affine,\n",
    "                )\n",
    "\n",
    "                new_bn.running_mean.data = module.running_mean.data[\n",
    "                    channel_dict[\"output\"]\n",
    "                ].clone()\n",
    "                new_bn.running_var.data = module.running_var.data[\n",
    "                    channel_dict[\"output\"]\n",
    "                ].clone()\n",
    "                if module.affine:\n",
    "                    new_bn.weight.data = module.weight.data[\n",
    "                        channel_dict[\"output\"]\n",
    "                    ].clone()\n",
    "                    new_bn.bias.data = module.bias.data[channel_dict[\"output\"]].clone()\n",
    "\n",
    "                if name.startswith(\"layer\"):\n",
    "                    splits = name.split(\".\")\n",
    "                    layer_idx, sub_layer_idx, bn_name = splits[:3]\n",
    "                    if len(splits) == 4:\n",
    "                        downsample_idx = splits[3]\n",
    "                        par_module = getattr(\n",
    "                            getattr(\n",
    "                                getattr(pruned_model.model, layer_idx), sub_layer_idx\n",
    "                            ),\n",
    "                            bn_name,\n",
    "                        )\n",
    "                        setattr(par_module, downsample_idx, new_bn)\n",
    "                    else:\n",
    "                        par_module = getattr(\n",
    "                            getattr(pruned_model.model, layer_idx), sub_layer_idx\n",
    "                        )\n",
    "                        setattr(par_module, bn_name, new_bn)\n",
    "                else:\n",
    "                    setattr(pruned_model.model, name, new_bn)\n",
    "\n",
    "        if isinstance(module, nn.Linear):\n",
    "            channel_dict = channel_mask[name]\n",
    "            if \"input\" in channel_dict:\n",
    "                new_in_channels = (\n",
    "                    channel_dict[\"input\"].sum().item()\n",
    "                )  # Count remaining filters\n",
    "            else:\n",
    "                new_in_channels = module.in_features\n",
    "\n",
    "            if \"output\" in channel_dict:\n",
    "                new_out_channels = (\n",
    "                    channel_dict[\"output\"].sum().item()\n",
    "                )  # Count remaining filters\n",
    "            else:\n",
    "                new_out_channels = module.out_features\n",
    "\n",
    "            new_linear = nn.Linear(\n",
    "                in_features=new_in_channels,\n",
    "                out_features=new_out_channels,\n",
    "                bias=module.bias is not None,\n",
    "            )\n",
    "\n",
    "            if \"input\" in channel_dict:\n",
    "                new_linear.weight.data = module.weight.data[\n",
    "                    :, channel_dict[\"input\"]\n",
    "                ].clone()\n",
    "\n",
    "            if \"output\" in channel_dict:\n",
    "                if \"input\" in channel_dict:\n",
    "                    new_linear.weight.data = new_linear.weight.data[\n",
    "                        channel_dict[\"output\"]\n",
    "                    ].clone()\n",
    "                    if module.bias is not None:\n",
    "                        new_linear.bias.data = new_linear.bias.data[\n",
    "                            channel_dict[\"output\"]\n",
    "                        ].clone()\n",
    "                else:\n",
    "                    new_linear.weight.data = module.weight.data[\n",
    "                        channel_dict[\"output\"]\n",
    "                    ].clone()\n",
    "                    if module.bias is not None:\n",
    "                        new_linear.bias.data = module.bias.data[\n",
    "                            channel_dict[\"output\"]\n",
    "                        ].clone()\n",
    "\n",
    "            if name.startswith(\"layer\"):\n",
    "                splits = name.split(\".\")\n",
    "                layer_idx, sub_layer_idx, linear_name = splits\n",
    "                par_module = getattr(\n",
    "                    getattr(pruned_model.model, layer_idx), sub_layer_idx\n",
    "                )\n",
    "                setattr(par_module, linear_name, new_linear)\n",
    "            else:\n",
    "                setattr(pruned_model.model, name, new_linear)\n",
    "\n",
    "    sparsity, base_param_cnt, prune_param_cnt = compute_structured_sparsity(\n",
    "        base_model, pruned_model\n",
    "    )\n",
    "    return pruned_model, sparsity * 100, base_param_cnt, prune_param_cnt\n"
   ]
  },
  {
   "cell_type": "markdown",
   "id": "b100a070-7d63-4afe-a0f2-a5e65621bf06",
   "metadata": {},
   "source": [
    "#### We use iterative pruning for the Structured Pruning case because, as we'll observe, the accuracy drop is significant and requires recovery through retraining. In this approach, we prune 10% of the parameters from the layer4 and FC layers of the ResNet50 model at each step. After each pruning step, we retrain the model for 1 epoch. This process will be repeated for 3 iterations."
   ]
  },
  {
   "cell_type": "code",
   "execution_count": 20,
   "id": "98291b34-05c0-4f37-874d-7e4999b79cb7",
   "metadata": {
    "scrolled": true
   },
   "outputs": [
    {
     "data": {
      "application/vnd.jupyter.widget-view+json": {
       "model_id": "3b5234d65e7c43de96d55cdff8248efc",
       "version_major": 2,
       "version_minor": 0
      },
      "text/plain": [
       "  0%|          | 0/3 [00:00<?, ?it/s]"
      ]
     },
     "metadata": {},
     "output_type": "display_data"
    },
    {
     "name": "stdout",
     "output_type": "stream",
     "text": [
      "[Step-1] Pruning the model. Prune ratio=0.1\n"
     ]
    },
    {
     "data": {
      "application/vnd.jupyter.widget-view+json": {
       "model_id": "1c9c473570384239bc8579e77a06198e",
       "version_major": 2,
       "version_minor": 0
      },
      "text/plain": [
       "  0%|          | 0/151 [00:00<?, ?it/s]"
      ]
     },
     "metadata": {},
     "output_type": "display_data"
    },
    {
     "name": "stdout",
     "output_type": "stream",
     "text": [
      "[Step-1] Base model params: 23,485,568\n",
      "[Step-1] Pruned model params: 20,887,302\n",
      "[Step-1] %age params after pruning: 88.94 %\n"
     ]
    },
    {
     "data": {
      "application/vnd.jupyter.widget-view+json": {
       "model_id": "4c6966b4250543b28163d354a5ba4f97",
       "version_major": 2,
       "version_minor": 0
      },
      "text/plain": [
       "  0%|          | 0/147 [00:00<?, ?it/s]"
      ]
     },
     "metadata": {},
     "output_type": "display_data"
    },
    {
     "name": "stderr",
     "output_type": "stream",
     "text": [
      "Exception ignored in: <function _MultiProcessingDataLoaderIter.__del__ at 0x7fc9f8931090>\n",
      "Exception ignored in: Traceback (most recent call last):\n",
      "  File \"/mnt/d/Meet/Company/Orange Eva Publication/Jupyter Notebook/onnx_env/lib/python3.10/site-packages/torch/utils/data/dataloader.py\", line 1618, in __del__\n",
      "<function _MultiProcessingDataLoaderIter.__del__ at 0x7fc9f8931090>\n",
      "Traceback (most recent call last):\n",
      "  File \"/mnt/d/Meet/Company/Orange Eva Publication/Jupyter Notebook/onnx_env/lib/python3.10/site-packages/torch/utils/data/dataloader.py\", line 1618, in __del__\n",
      "    self._shutdown_workers()\n",
      "  File \"/mnt/d/Meet/Company/Orange Eva Publication/Jupyter Notebook/onnx_env/lib/python3.10/site-packages/torch/utils/data/dataloader.py\", line 1601, in _shutdown_workers\n",
      "    self._shutdown_workers()\n",
      "  File \"/mnt/d/Meet/Company/Orange Eva Publication/Jupyter Notebook/onnx_env/lib/python3.10/site-packages/torch/utils/data/dataloader.py\", line 1601, in _shutdown_workers\n",
      "    if w.is_alive():\n",
      "      File \"/usr/lib/python3.10/multiprocessing/process.py\", line 160, in is_alive\n",
      "if w.is_alive():    \n",
      "assert self._parent_pid == os.getpid(), 'can only test a child process'  File \"/usr/lib/python3.10/multiprocessing/process.py\", line 160, in is_alive\n",
      "\n",
      "    assert self._parent_pid == os.getpid(), 'can only test a child process'AssertionError\n",
      ": AssertionErrorcan only test a child process: \n",
      "can only test a child process\n",
      "Exception ignored in: <function _MultiProcessingDataLoaderIter.__del__ at 0x7fc9f8931090>\n",
      "Traceback (most recent call last):\n",
      "  File \"/mnt/d/Meet/Company/Orange Eva Publication/Jupyter Notebook/onnx_env/lib/python3.10/site-packages/torch/utils/data/dataloader.py\", line 1618, in __del__\n",
      "    self._shutdown_workers()\n",
      "  File \"/mnt/d/Meet/Company/Orange Eva Publication/Jupyter Notebook/onnx_env/lib/python3.10/site-packages/torch/utils/data/dataloader.py\", line 1601, in _shutdown_workers\n",
      "    if w.is_alive():\n",
      "  File \"/usr/lib/python3.10/multiprocessing/process.py\", line 160, in is_alive\n",
      "    assert self._parent_pid == os.getpid(), 'can only test a child process'\n",
      "AssertionError: can only test a child process\n",
      "Exception ignored in: <function _MultiProcessingDataLoaderIter.__del__ at 0x7fc9f8931090>\n",
      "Traceback (most recent call last):\n",
      "  File \"/mnt/d/Meet/Company/Orange Eva Publication/Jupyter Notebook/onnx_env/lib/python3.10/site-packages/torch/utils/data/dataloader.py\", line 1618, in __del__\n",
      "    self._shutdown_workers()\n",
      "  File \"/mnt/d/Meet/Company/Orange Eva Publication/Jupyter Notebook/onnx_env/lib/python3.10/site-packages/torch/utils/data/dataloader.py\", line 1601, in _shutdown_workers\n",
      "    if w.is_alive():\n",
      "  File \"/usr/lib/python3.10/multiprocessing/process.py\", line 160, in is_alive\n",
      "    assert self._parent_pid == os.getpid(), 'can only test a child process'\n",
      "AssertionError: can only test a child process\n"
     ]
    },
    {
     "name": "stdout",
     "output_type": "stream",
     "text": [
      "Test Accuracy: 79.50%\n",
      "[Step-1] Accuracy after pruning: 79.50%\n"
     ]
    },
    {
     "data": {
      "application/vnd.jupyter.widget-view+json": {
       "model_id": "037b60037d0e45038eba1fb5ac276fff",
       "version_major": 2,
       "version_minor": 0
      },
      "text/plain": [
       "  0%|          | 0/586 [00:00<?, ?it/s]"
      ]
     },
     "metadata": {},
     "output_type": "display_data"
    },
    {
     "name": "stderr",
     "output_type": "stream",
     "text": [
      "Exception ignored in: <function _MultiProcessingDataLoaderIter.__del__ at 0x7fc9f8931090>\n",
      "Traceback (most recent call last):\n",
      "  File \"/mnt/d/Meet/Company/Orange Eva Publication/Jupyter Notebook/onnx_env/lib/python3.10/site-packages/torch/utils/data/dataloader.py\", line 1618, in __del__\n",
      "    self._shutdown_workers()\n",
      "  File \"/mnt/d/Meet/Company/Orange Eva Publication/Jupyter Notebook/onnx_env/lib/python3.10/site-packages/torch/utils/data/dataloader.py\", line 1601, in _shutdown_workers\n",
      "Exception ignored in: Exception ignored in: <function _MultiProcessingDataLoaderIter.__del__ at 0x7fc9f8931090><function _MultiProcessingDataLoaderIter.__del__ at 0x7fc9f8931090>\n",
      "\n",
      "Traceback (most recent call last):\n",
      "Traceback (most recent call last):\n",
      "  File \"/mnt/d/Meet/Company/Orange Eva Publication/Jupyter Notebook/onnx_env/lib/python3.10/site-packages/torch/utils/data/dataloader.py\", line 1618, in __del__\n",
      "  File \"/mnt/d/Meet/Company/Orange Eva Publication/Jupyter Notebook/onnx_env/lib/python3.10/site-packages/torch/utils/data/dataloader.py\", line 1618, in __del__\n",
      "    if w.is_alive():\n",
      "  File \"/usr/lib/python3.10/multiprocessing/process.py\", line 160, in is_alive\n",
      "            assert self._parent_pid == os.getpid(), 'can only test a child process'self._shutdown_workers()self._shutdown_workers()\n",
      "\n",
      "\n",
      "AssertionError  File \"/mnt/d/Meet/Company/Orange Eva Publication/Jupyter Notebook/onnx_env/lib/python3.10/site-packages/torch/utils/data/dataloader.py\", line 1601, in _shutdown_workers\n",
      "  File \"/mnt/d/Meet/Company/Orange Eva Publication/Jupyter Notebook/onnx_env/lib/python3.10/site-packages/torch/utils/data/dataloader.py\", line 1601, in _shutdown_workers\n",
      ": can only test a child process\n",
      "        if w.is_alive():if w.is_alive():Exception ignored in: \n",
      "\n",
      "  File \"/usr/lib/python3.10/multiprocessing/process.py\", line 160, in is_alive\n",
      "  File \"/usr/lib/python3.10/multiprocessing/process.py\", line 160, in is_alive\n",
      "<function _MultiProcessingDataLoaderIter.__del__ at 0x7fc9f8931090>        \n",
      "assert self._parent_pid == os.getpid(), 'can only test a child process'assert self._parent_pid == os.getpid(), 'can only test a child process'Traceback (most recent call last):\n",
      "\n",
      "\n",
      "  File \"/mnt/d/Meet/Company/Orange Eva Publication/Jupyter Notebook/onnx_env/lib/python3.10/site-packages/torch/utils/data/dataloader.py\", line 1618, in __del__\n",
      "AssertionErrorAssertionError: : can only test a child processcan only test a child process\n",
      "    self._shutdown_workers()\n",
      "\n",
      "  File \"/mnt/d/Meet/Company/Orange Eva Publication/Jupyter Notebook/onnx_env/lib/python3.10/site-packages/torch/utils/data/dataloader.py\", line 1601, in _shutdown_workers\n",
      "    if w.is_alive():Exception ignored in: \n",
      "<function _MultiProcessingDataLoaderIter.__del__ at 0x7fc9f8931090>  File \"/usr/lib/python3.10/multiprocessing/process.py\", line 160, in is_alive\n",
      "\n",
      "    Traceback (most recent call last):\n",
      "assert self._parent_pid == os.getpid(), 'can only test a child process'  File \"/mnt/d/Meet/Company/Orange Eva Publication/Jupyter Notebook/onnx_env/lib/python3.10/site-packages/torch/utils/data/dataloader.py\", line 1618, in __del__\n",
      "\n",
      "AssertionError: can only test a child process    \n",
      "self._shutdown_workers()\n",
      "  File \"/mnt/d/Meet/Company/Orange Eva Publication/Jupyter Notebook/onnx_env/lib/python3.10/site-packages/torch/utils/data/dataloader.py\", line 1601, in _shutdown_workers\n",
      "    if w.is_alive():\n",
      "  File \"/usr/lib/python3.10/multiprocessing/process.py\", line 160, in is_alive\n",
      "    assert self._parent_pid == os.getpid(), 'can only test a child process'\n",
      "AssertionError: can only test a child process\n",
      "Exception ignored in: <function _MultiProcessingDataLoaderIter.__del__ at 0x7fc9f8931090>\n",
      "Traceback (most recent call last):\n",
      "  File \"/mnt/d/Meet/Company/Orange Eva Publication/Jupyter Notebook/onnx_env/lib/python3.10/site-packages/torch/utils/data/dataloader.py\", line 1618, in __del__\n",
      "    self._shutdown_workers()\n",
      "  File \"/mnt/d/Meet/Company/Orange Eva Publication/Jupyter Notebook/onnx_env/lib/python3.10/site-packages/torch/utils/data/dataloader.py\", line 1601, in _shutdown_workers\n",
      "    if w.is_alive():\n",
      "Exception ignored in:   File \"/usr/lib/python3.10/multiprocessing/process.py\", line 160, in is_alive\n",
      "<function _MultiProcessingDataLoaderIter.__del__ at 0x7fc9f8931090>    \n",
      "Traceback (most recent call last):\n",
      "assert self._parent_pid == os.getpid(), 'can only test a child process'  File \"/mnt/d/Meet/Company/Orange Eva Publication/Jupyter Notebook/onnx_env/lib/python3.10/site-packages/torch/utils/data/dataloader.py\", line 1618, in __del__\n",
      "\n",
      "AssertionError: can only test a child process\n",
      "    self._shutdown_workers()\n",
      "  File \"/mnt/d/Meet/Company/Orange Eva Publication/Jupyter Notebook/onnx_env/lib/python3.10/site-packages/torch/utils/data/dataloader.py\", line 1601, in _shutdown_workers\n",
      "    if w.is_alive():\n",
      "Exception ignored in:   File \"/usr/lib/python3.10/multiprocessing/process.py\", line 160, in is_alive\n",
      "Exception ignored in:     assert self._parent_pid == os.getpid(), 'can only test a child process'<function _MultiProcessingDataLoaderIter.__del__ at 0x7fc9f8931090>\n",
      "Exception ignored in: \n",
      "AssertionErrorTraceback (most recent call last):\n",
      ": <function _MultiProcessingDataLoaderIter.__del__ at 0x7fc9f8931090><function _MultiProcessingDataLoaderIter.__del__ at 0x7fc9f8931090>  File \"/mnt/d/Meet/Company/Orange Eva Publication/Jupyter Notebook/onnx_env/lib/python3.10/site-packages/torch/utils/data/dataloader.py\", line 1618, in __del__\n",
      "can only test a child process\n",
      "\n",
      "Traceback (most recent call last):\n",
      "\n",
      "  File \"/mnt/d/Meet/Company/Orange Eva Publication/Jupyter Notebook/onnx_env/lib/python3.10/site-packages/torch/utils/data/dataloader.py\", line 1618, in __del__\n",
      "Traceback (most recent call last):\n",
      "Exception ignored in:   File \"/mnt/d/Meet/Company/Orange Eva Publication/Jupyter Notebook/onnx_env/lib/python3.10/site-packages/torch/utils/data/dataloader.py\", line 1618, in __del__\n",
      "<function _MultiProcessingDataLoaderIter.__del__ at 0x7fc9f8931090>\n",
      "Exception ignored in:     Traceback (most recent call last):\n",
      "    self._shutdown_workers()<function _MultiProcessingDataLoaderIter.__del__ at 0x7fc9f8931090>  File \"/mnt/d/Meet/Company/Orange Eva Publication/Jupyter Notebook/onnx_env/lib/python3.10/site-packages/torch/utils/data/dataloader.py\", line 1618, in __del__\n",
      "\n",
      "\n",
      "      File \"/mnt/d/Meet/Company/Orange Eva Publication/Jupyter Notebook/onnx_env/lib/python3.10/site-packages/torch/utils/data/dataloader.py\", line 1601, in _shutdown_workers\n",
      "self._shutdown_workers()Traceback (most recent call last):\n",
      "\n",
      "  File \"/mnt/d/Meet/Company/Orange Eva Publication/Jupyter Notebook/onnx_env/lib/python3.10/site-packages/torch/utils/data/dataloader.py\", line 1618, in __del__\n",
      "  File \"/mnt/d/Meet/Company/Orange Eva Publication/Jupyter Notebook/onnx_env/lib/python3.10/site-packages/torch/utils/data/dataloader.py\", line 1601, in _shutdown_workers\n",
      "        self._shutdown_workers()self._shutdown_workers()\n",
      "if w.is_alive():  File \"/mnt/d/Meet/Company/Orange Eva Publication/Jupyter Notebook/onnx_env/lib/python3.10/site-packages/torch/utils/data/dataloader.py\", line 1601, in _shutdown_workers\n",
      "\n",
      "\n",
      "  File \"/mnt/d/Meet/Company/Orange Eva Publication/Jupyter Notebook/onnx_env/lib/python3.10/site-packages/torch/utils/data/dataloader.py\", line 1601, in _shutdown_workers\n",
      "        self._shutdown_workers()  File \"/usr/lib/python3.10/multiprocessing/process.py\", line 160, in is_alive\n",
      "if w.is_alive():    \n",
      "\n",
      "assert self._parent_pid == os.getpid(), 'can only test a child process'  File \"/mnt/d/Meet/Company/Orange Eva Publication/Jupyter Notebook/onnx_env/lib/python3.10/site-packages/torch/utils/data/dataloader.py\", line 1601, in _shutdown_workers\n",
      "  File \"/usr/lib/python3.10/multiprocessing/process.py\", line 160, in is_alive\n",
      "        Exception ignored in: \n",
      "    <function _MultiProcessingDataLoaderIter.__del__ at 0x7fc9f8931090>AssertionErrorif w.is_alive():assert self._parent_pid == os.getpid(), 'can only test a child process'\n",
      ": \n",
      "  File \"/usr/lib/python3.10/multiprocessing/process.py\", line 160, in is_alive\n",
      "Traceback (most recent call last):\n",
      "if w.is_alive():can only test a child process\n",
      "    \n",
      "AssertionError  File \"/mnt/d/Meet/Company/Orange Eva Publication/Jupyter Notebook/onnx_env/lib/python3.10/site-packages/torch/utils/data/dataloader.py\", line 1618, in __del__\n",
      "    : assert self._parent_pid == os.getpid(), 'can only test a child process'if w.is_alive():  File \"/usr/lib/python3.10/multiprocessing/process.py\", line 160, in is_alive\n",
      "\n",
      "    \n",
      "can only test a child process\n",
      "assert self._parent_pid == os.getpid(), 'can only test a child process'AssertionError  File \"/usr/lib/python3.10/multiprocessing/process.py\", line 160, in is_alive\n",
      "\n",
      ":     \n",
      "can only test a child processassert self._parent_pid == os.getpid(), 'can only test a child process'AssertionError\n",
      "    \n",
      ": self._shutdown_workers()can only test a child process\n",
      "\n",
      "  File \"/mnt/d/Meet/Company/Orange Eva Publication/Jupyter Notebook/onnx_env/lib/python3.10/site-packages/torch/utils/data/dataloader.py\", line 1601, in _shutdown_workers\n",
      "AssertionError:     can only test a child processif w.is_alive():\n",
      "\n",
      "  File \"/usr/lib/python3.10/multiprocessing/process.py\", line 160, in is_alive\n",
      "    assert self._parent_pid == os.getpid(), 'can only test a child process'\n",
      "AssertionError: can only test a child process\n"
     ]
    },
    {
     "name": "stdout",
     "output_type": "stream",
     "text": [
      "Epoch 1/1, Loss: 0.1366160377675712, Accuracy: 94.61%\n"
     ]
    },
    {
     "data": {
      "application/vnd.jupyter.widget-view+json": {
       "model_id": "70922d53653945b582851f62ff2ed697",
       "version_major": 2,
       "version_minor": 0
      },
      "text/plain": [
       "  0%|          | 0/147 [00:00<?, ?it/s]"
      ]
     },
     "metadata": {},
     "output_type": "display_data"
    },
    {
     "name": "stdout",
     "output_type": "stream",
     "text": [
      "Test Accuracy: 92.18%\n"
     ]
    },
    {
     "data": {
      "application/vnd.jupyter.widget-view+json": {
       "model_id": "93f249e4b3b74da5b36fb23c8e703199",
       "version_major": 2,
       "version_minor": 0
      },
      "text/plain": [
       "  0%|          | 0/147 [00:00<?, ?it/s]"
      ]
     },
     "metadata": {},
     "output_type": "display_data"
    },
    {
     "name": "stderr",
     "output_type": "stream",
     "text": [
      "Exception ignored in: <function _MultiProcessingDataLoaderIter.__del__ at 0x7fc9f8931090>\n",
      "Traceback (most recent call last):\n",
      "  File \"/mnt/d/Meet/Company/Orange Eva Publication/Jupyter Notebook/onnx_env/lib/python3.10/site-packages/torch/utils/data/dataloader.py\", line 1618, in __del__\n",
      "    self._shutdown_workers()\n",
      "  File \"/mnt/d/Meet/Company/Orange Eva Publication/Jupyter Notebook/onnx_env/lib/python3.10/site-packages/torch/utils/data/dataloader.py\", line 1601, in _shutdown_workers\n",
      "    if w.is_alive():\n",
      "  File \"/usr/lib/python3.10/multiprocessing/process.py\", line 160, in is_alive\n",
      "    assert self._parent_pid == os.getpid(), 'can only test a child process'\n",
      "AssertionError: can only test a child process\n",
      "Exception ignored in: <function _MultiProcessingDataLoaderIter.__del__ at 0x7fc9f8931090>\n",
      "Traceback (most recent call last):\n",
      "  File \"/mnt/d/Meet/Company/Orange Eva Publication/Jupyter Notebook/onnx_env/lib/python3.10/site-packages/torch/utils/data/dataloader.py\", line 1618, in __del__\n",
      "    self._shutdown_workers()\n",
      "  File \"/mnt/d/Meet/Company/Orange Eva Publication/Jupyter Notebook/onnx_env/lib/python3.10/site-packages/torch/utils/data/dataloader.py\", line 1601, in _shutdown_workers\n",
      "    if w.is_alive():\n",
      "  File \"/usr/lib/python3.10/multiprocessing/process.py\", line 160, in is_alive\n",
      "    assert self._parent_pid == os.getpid(), 'can only test a child process'\n",
      "AssertionError: can only test a child process\n",
      "Exception ignored in: <function _MultiProcessingDataLoaderIter.__del__ at 0x7fc9f8931090>\n",
      "Traceback (most recent call last):\n",
      "  File \"/mnt/d/Meet/Company/Orange Eva Publication/Jupyter Notebook/onnx_env/lib/python3.10/site-packages/torch/utils/data/dataloader.py\", line 1618, in __del__\n",
      "    self._shutdown_workers()\n",
      "  File \"/mnt/d/Meet/Company/Orange Eva Publication/Jupyter Notebook/onnx_env/lib/python3.10/site-packages/torch/utils/data/dataloader.py\", line 1601, in _shutdown_workers\n",
      "    if w.is_alive():\n",
      "  File \"/usr/lib/python3.10/multiprocessing/process.py\", line 160, in is_alive\n",
      "    assert self._parent_pid == os.getpid(), 'can only test a child process'\n",
      "AssertionError: can only test a child process\n",
      "Exception ignored in: <function _MultiProcessingDataLoaderIter.__del__ at 0x7fc9f8931090>\n",
      "Traceback (most recent call last):\n",
      "  File \"/mnt/d/Meet/Company/Orange Eva Publication/Jupyter Notebook/onnx_env/lib/python3.10/site-packages/torch/utils/data/dataloader.py\", line 1618, in __del__\n",
      "    self._shutdown_workers()\n",
      "  File \"/mnt/d/Meet/Company/Orange Eva Publication/Jupyter Notebook/onnx_env/lib/python3.10/site-packages/torch/utils/data/dataloader.py\", line 1601, in _shutdown_workers\n",
      "    if w.is_alive():\n",
      "  File \"/usr/lib/python3.10/multiprocessing/process.py\", line 160, in is_alive\n",
      "    assert self._parent_pid == os.getpid(), 'can only test a child process'\n",
      "AssertionError: can only test a child process\n"
     ]
    },
    {
     "name": "stdout",
     "output_type": "stream",
     "text": [
      "Test Accuracy: 92.18%\n",
      "[Step-1] Accuracy after re-training: 92.18%\n",
      "[Step-2] Pruning the model. Prune ratio=0.1\n"
     ]
    },
    {
     "data": {
      "application/vnd.jupyter.widget-view+json": {
       "model_id": "1bc5d6f3ea8c4a9c9d4e8bf4e0ad3bed",
       "version_major": 2,
       "version_minor": 0
      },
      "text/plain": [
       "  0%|          | 0/151 [00:00<?, ?it/s]"
      ]
     },
     "metadata": {},
     "output_type": "display_data"
    },
    {
     "name": "stdout",
     "output_type": "stream",
     "text": [
      "[Step-2] Base model params: 20,887,302\n",
      "[Step-2] Pruned model params: 18,756,720\n",
      "[Step-2] %age params after pruning: 89.80 %\n"
     ]
    },
    {
     "data": {
      "application/vnd.jupyter.widget-view+json": {
       "model_id": "9fad05de1146495a9cc338ec5478f2a5",
       "version_major": 2,
       "version_minor": 0
      },
      "text/plain": [
       "  0%|          | 0/147 [00:00<?, ?it/s]"
      ]
     },
     "metadata": {},
     "output_type": "display_data"
    },
    {
     "name": "stdout",
     "output_type": "stream",
     "text": [
      "Test Accuracy: 49.62%\n",
      "[Step-2] Accuracy after pruning: 49.62%\n"
     ]
    },
    {
     "data": {
      "application/vnd.jupyter.widget-view+json": {
       "model_id": "f621b69b7b284f32af49d0c4966c521d",
       "version_major": 2,
       "version_minor": 0
      },
      "text/plain": [
       "  0%|          | 0/586 [00:00<?, ?it/s]"
      ]
     },
     "metadata": {},
     "output_type": "display_data"
    },
    {
     "name": "stderr",
     "output_type": "stream",
     "text": [
      "Exception ignored in: <function _MultiProcessingDataLoaderIter.__del__ at 0x7fc9f8931090>\n",
      "Traceback (most recent call last):\n",
      "  File \"/mnt/d/Meet/Company/Orange Eva Publication/Jupyter Notebook/onnx_env/lib/python3.10/site-packages/torch/utils/data/dataloader.py\", line 1618, in __del__\n",
      "    self._shutdown_workers()\n",
      "  File \"/mnt/d/Meet/Company/Orange Eva Publication/Jupyter Notebook/onnx_env/lib/python3.10/site-packages/torch/utils/data/dataloader.py\", line 1601, in _shutdown_workers\n",
      "    if w.is_alive():\n",
      "  File \"/usr/lib/python3.10/multiprocessing/process.py\", line 160, in is_alive\n",
      "    assert self._parent_pid == os.getpid(), 'can only test a child process'\n",
      "AssertionError: can only test a child process\n",
      "Exception ignored in: <function _MultiProcessingDataLoaderIter.__del__ at 0x7fc9f8931090>\n",
      "Traceback (most recent call last):\n",
      "  File \"/mnt/d/Meet/Company/Orange Eva Publication/Jupyter Notebook/onnx_env/lib/python3.10/site-packages/torch/utils/data/dataloader.py\", line 1618, in __del__\n",
      "    self._shutdown_workers()\n",
      "  File \"/mnt/d/Meet/Company/Orange Eva Publication/Jupyter Notebook/onnx_env/lib/python3.10/site-packages/torch/utils/data/dataloader.py\", line 1601, in _shutdown_workers\n",
      "    if w.is_alive():\n",
      "  File \"/usr/lib/python3.10/multiprocessing/process.py\", line 160, in is_alive\n",
      "    assert self._parent_pid == os.getpid(), 'can only test a child process'\n",
      "AssertionError: can only test a child process\n",
      "Exception ignored in: <function _MultiProcessingDataLoaderIter.__del__ at 0x7fc9f8931090>\n",
      "Traceback (most recent call last):\n",
      "  File \"/mnt/d/Meet/Company/Orange Eva Publication/Jupyter Notebook/onnx_env/lib/python3.10/site-packages/torch/utils/data/dataloader.py\", line 1618, in __del__\n",
      "    self._shutdown_workers()\n",
      "  File \"/mnt/d/Meet/Company/Orange Eva Publication/Jupyter Notebook/onnx_env/lib/python3.10/site-packages/torch/utils/data/dataloader.py\", line 1601, in _shutdown_workers\n",
      "    if w.is_alive():\n",
      "  File \"/usr/lib/python3.10/multiprocessing/process.py\", line 160, in is_alive\n",
      "    assert self._parent_pid == os.getpid(), 'can only test a child process'\n",
      "AssertionError: can only test a child process\n",
      "Exception ignored in: <function _MultiProcessingDataLoaderIter.__del__ at 0x7fc9f8931090>\n",
      "Traceback (most recent call last):\n",
      "  File \"/mnt/d/Meet/Company/Orange Eva Publication/Jupyter Notebook/onnx_env/lib/python3.10/site-packages/torch/utils/data/dataloader.py\", line 1618, in __del__\n",
      "    self._shutdown_workers()\n",
      "  File \"/mnt/d/Meet/Company/Orange Eva Publication/Jupyter Notebook/onnx_env/lib/python3.10/site-packages/torch/utils/data/dataloader.py\", line 1601, in _shutdown_workers\n",
      "    if w.is_alive():\n",
      "  File \"/usr/lib/python3.10/multiprocessing/process.py\", line 160, in is_alive\n",
      "    assert self._parent_pid == os.getpid(), 'can only test a child process'\n",
      "AssertionError: can only test a child process\n"
     ]
    },
    {
     "name": "stdout",
     "output_type": "stream",
     "text": [
      "Epoch 1/1, Loss: 0.1307951264622154, Accuracy: 94.81%\n"
     ]
    },
    {
     "data": {
      "application/vnd.jupyter.widget-view+json": {
       "model_id": "d2c9cf5d271543e29fb9c66d209bb231",
       "version_major": 2,
       "version_minor": 0
      },
      "text/plain": [
       "  0%|          | 0/147 [00:00<?, ?it/s]"
      ]
     },
     "metadata": {},
     "output_type": "display_data"
    },
    {
     "name": "stderr",
     "output_type": "stream",
     "text": [
      "Exception ignored in: <function _MultiProcessingDataLoaderIter.__del__ at 0x7fc9f8931090>\n",
      "Traceback (most recent call last):\n",
      "  File \"/mnt/d/Meet/Company/Orange Eva Publication/Jupyter Notebook/onnx_env/lib/python3.10/site-packages/torch/utils/data/dataloader.py\", line 1618, in __del__\n",
      "Exception ignored in: <function _MultiProcessingDataLoaderIter.__del__ at 0x7fc9f8931090>\n",
      "Traceback (most recent call last):\n",
      "  File \"/mnt/d/Meet/Company/Orange Eva Publication/Jupyter Notebook/onnx_env/lib/python3.10/site-packages/torch/utils/data/dataloader.py\", line 1618, in __del__\n",
      "    self._shutdown_workers()\n",
      "      File \"/mnt/d/Meet/Company/Orange Eva Publication/Jupyter Notebook/onnx_env/lib/python3.10/site-packages/torch/utils/data/dataloader.py\", line 1601, in _shutdown_workers\n",
      "self._shutdown_workers()\n",
      "  File \"/mnt/d/Meet/Company/Orange Eva Publication/Jupyter Notebook/onnx_env/lib/python3.10/site-packages/torch/utils/data/dataloader.py\", line 1601, in _shutdown_workers\n",
      "        if w.is_alive():\n",
      "if w.is_alive():  File \"/usr/lib/python3.10/multiprocessing/process.py\", line 160, in is_alive\n",
      "\n",
      "  File \"/usr/lib/python3.10/multiprocessing/process.py\", line 160, in is_alive\n",
      "Exception ignored in:     <function _MultiProcessingDataLoaderIter.__del__ at 0x7fc9f8931090>assert self._parent_pid == os.getpid(), 'can only test a child process'\n",
      "    \n",
      "Traceback (most recent call last):\n",
      "assert self._parent_pid == os.getpid(), 'can only test a child process'\n",
      "AssertionErrorAssertionError: : can only test a child processcan only test a child process\n",
      "\n",
      "Exception ignored in: Exception ignored in:   File \"/mnt/d/Meet/Company/Orange Eva Publication/Jupyter Notebook/onnx_env/lib/python3.10/site-packages/torch/utils/data/dataloader.py\", line 1618, in __del__\n",
      "<function _MultiProcessingDataLoaderIter.__del__ at 0x7fc9f8931090>\n",
      "Traceback (most recent call last):\n",
      "<function _MultiProcessingDataLoaderIter.__del__ at 0x7fc9f8931090>  File \"/mnt/d/Meet/Company/Orange Eva Publication/Jupyter Notebook/onnx_env/lib/python3.10/site-packages/torch/utils/data/dataloader.py\", line 1618, in __del__\n",
      "    self._shutdown_workers()\n",
      "  File \"/mnt/d/Meet/Company/Orange Eva Publication/Jupyter Notebook/onnx_env/lib/python3.10/site-packages/torch/utils/data/dataloader.py\", line 1601, in _shutdown_workers\n",
      "Exception ignored in:     self._shutdown_workers()    if w.is_alive():\n",
      "\n",
      "\n",
      "  File \"/mnt/d/Meet/Company/Orange Eva Publication/Jupyter Notebook/onnx_env/lib/python3.10/site-packages/torch/utils/data/dataloader.py\", line 1601, in _shutdown_workers\n",
      "  File \"/usr/lib/python3.10/multiprocessing/process.py\", line 160, in is_alive\n",
      "    <function _MultiProcessingDataLoaderIter.__del__ at 0x7fc9f8931090>assert self._parent_pid == os.getpid(), 'can only test a child process'Exception ignored in: \n",
      "AssertionError<function _MultiProcessingDataLoaderIter.__del__ at 0x7fc9f8931090>    : if w.is_alive():\n",
      "can only test a child process\n",
      "  File \"/usr/lib/python3.10/multiprocessing/process.py\", line 160, in is_alive\n",
      "Traceback (most recent call last):\n",
      "Traceback (most recent call last):\n",
      "\n",
      "      File \"/mnt/d/Meet/Company/Orange Eva Publication/Jupyter Notebook/onnx_env/lib/python3.10/site-packages/torch/utils/data/dataloader.py\", line 1618, in __del__\n",
      "\n",
      "Traceback (most recent call last):\n",
      "assert self._parent_pid == os.getpid(), 'can only test a child process'  File \"/mnt/d/Meet/Company/Orange Eva Publication/Jupyter Notebook/onnx_env/lib/python3.10/site-packages/torch/utils/data/dataloader.py\", line 1618, in __del__\n",
      "  File \"/mnt/d/Meet/Company/Orange Eva Publication/Jupyter Notebook/onnx_env/lib/python3.10/site-packages/torch/utils/data/dataloader.py\", line 1618, in __del__\n",
      "\n",
      "AssertionError: can only test a child processException ignored in: \n",
      "<function _MultiProcessingDataLoaderIter.__del__ at 0x7fc9f8931090>\n",
      "Exception ignored in: Traceback (most recent call last):\n",
      "<function _MultiProcessingDataLoaderIter.__del__ at 0x7fc9f8931090>  File \"/mnt/d/Meet/Company/Orange Eva Publication/Jupyter Notebook/onnx_env/lib/python3.10/site-packages/torch/utils/data/dataloader.py\", line 1618, in __del__\n",
      "\n",
      "Traceback (most recent call last):\n",
      "            self._shutdown_workers()self._shutdown_workers()self._shutdown_workers()  File \"/mnt/d/Meet/Company/Orange Eva Publication/Jupyter Notebook/onnx_env/lib/python3.10/site-packages/torch/utils/data/dataloader.py\", line 1618, in __del__\n",
      "    \n",
      "\n",
      "self._shutdown_workers()  File \"/mnt/d/Meet/Company/Orange Eva Publication/Jupyter Notebook/onnx_env/lib/python3.10/site-packages/torch/utils/data/dataloader.py\", line 1601, in _shutdown_workers\n",
      "  File \"/mnt/d/Meet/Company/Orange Eva Publication/Jupyter Notebook/onnx_env/lib/python3.10/site-packages/torch/utils/data/dataloader.py\", line 1601, in _shutdown_workers\n",
      "\n",
      "\n",
      "  File \"/mnt/d/Meet/Company/Orange Eva Publication/Jupyter Notebook/onnx_env/lib/python3.10/site-packages/torch/utils/data/dataloader.py\", line 1601, in _shutdown_workers\n",
      "  File \"/mnt/d/Meet/Company/Orange Eva Publication/Jupyter Notebook/onnx_env/lib/python3.10/site-packages/torch/utils/data/dataloader.py\", line 1601, in _shutdown_workers\n",
      "        self._shutdown_workers()if w.is_alive():    Exception ignored in: \n",
      "    \n",
      "  File \"/mnt/d/Meet/Company/Orange Eva Publication/Jupyter Notebook/onnx_env/lib/python3.10/site-packages/torch/utils/data/dataloader.py\", line 1601, in _shutdown_workers\n",
      "if w.is_alive():  File \"/usr/lib/python3.10/multiprocessing/process.py\", line 160, in is_alive\n",
      "if w.is_alive():    \n",
      "if w.is_alive():    \n",
      "  File \"/usr/lib/python3.10/multiprocessing/process.py\", line 160, in is_alive\n",
      "\n",
      "assert self._parent_pid == os.getpid(), 'can only test a child process'  File \"/usr/lib/python3.10/multiprocessing/process.py\", line 160, in is_alive\n",
      "    \n",
      "assert self._parent_pid == os.getpid(), 'can only test a child process'    \n",
      "assert self._parent_pid == os.getpid(), 'can only test a child process'  File \"/usr/lib/python3.10/multiprocessing/process.py\", line 160, in is_alive\n",
      "AssertionError    AssertionError\n",
      "    if w.is_alive():assert self._parent_pid == os.getpid(), 'can only test a child process'\n",
      ": <function _MultiProcessingDataLoaderIter.__del__ at 0x7fc9f8931090>AssertionError:   File \"/usr/lib/python3.10/multiprocessing/process.py\", line 160, in is_alive\n",
      "\n",
      "\n",
      "can only test a child process: AssertionErrorcan only test a child processTraceback (most recent call last):\n",
      "\n",
      "    : \n",
      "  File \"/mnt/d/Meet/Company/Orange Eva Publication/Jupyter Notebook/onnx_env/lib/python3.10/site-packages/torch/utils/data/dataloader.py\", line 1618, in __del__\n",
      "can only test a child processcan only test a child processassert self._parent_pid == os.getpid(), 'can only test a child process'\n",
      "\n",
      "\n",
      "Exception ignored in: Exception ignored in: AssertionErrorException ignored in: <function _MultiProcessingDataLoaderIter.__del__ at 0x7fc9f8931090>Exception ignored in: <function _MultiProcessingDataLoaderIter.__del__ at 0x7fc9f8931090>: \n",
      "    <function _MultiProcessingDataLoaderIter.__del__ at 0x7fc9f8931090>\n",
      "can only test a child processTraceback (most recent call last):\n",
      "self._shutdown_workers()\n",
      "\n",
      "  File \"/mnt/d/Meet/Company/Orange Eva Publication/Jupyter Notebook/onnx_env/lib/python3.10/site-packages/torch/utils/data/dataloader.py\", line 1618, in __del__\n",
      "Traceback (most recent call last):\n",
      "  File \"/mnt/d/Meet/Company/Orange Eva Publication/Jupyter Notebook/onnx_env/lib/python3.10/site-packages/torch/utils/data/dataloader.py\", line 1618, in __del__\n",
      "\n",
      "<function _MultiProcessingDataLoaderIter.__del__ at 0x7fc9f8931090>Traceback (most recent call last):\n",
      "  File \"/mnt/d/Meet/Company/Orange Eva Publication/Jupyter Notebook/onnx_env/lib/python3.10/site-packages/torch/utils/data/dataloader.py\", line 1601, in _shutdown_workers\n",
      "\n",
      "  File \"/mnt/d/Meet/Company/Orange Eva Publication/Jupyter Notebook/onnx_env/lib/python3.10/site-packages/torch/utils/data/dataloader.py\", line 1618, in __del__\n",
      "        self._shutdown_workers()self._shutdown_workers()Traceback (most recent call last):\n",
      "\n",
      "\n",
      "  File \"/mnt/d/Meet/Company/Orange Eva Publication/Jupyter Notebook/onnx_env/lib/python3.10/site-packages/torch/utils/data/dataloader.py\", line 1618, in __del__\n",
      "  File \"/mnt/d/Meet/Company/Orange Eva Publication/Jupyter Notebook/onnx_env/lib/python3.10/site-packages/torch/utils/data/dataloader.py\", line 1601, in _shutdown_workers\n",
      "        self._shutdown_workers()  File \"/mnt/d/Meet/Company/Orange Eva Publication/Jupyter Notebook/onnx_env/lib/python3.10/site-packages/torch/utils/data/dataloader.py\", line 1601, in _shutdown_workers\n",
      "if w.is_alive():\n",
      "\n",
      "  File \"/mnt/d/Meet/Company/Orange Eva Publication/Jupyter Notebook/onnx_env/lib/python3.10/site-packages/torch/utils/data/dataloader.py\", line 1601, in _shutdown_workers\n",
      "  File \"/usr/lib/python3.10/multiprocessing/process.py\", line 160, in is_alive\n",
      "        self._shutdown_workers()assert self._parent_pid == os.getpid(), 'can only test a child process'    if w.is_alive():\n",
      "\n",
      "    \n",
      "      File \"/mnt/d/Meet/Company/Orange Eva Publication/Jupyter Notebook/onnx_env/lib/python3.10/site-packages/torch/utils/data/dataloader.py\", line 1601, in _shutdown_workers\n",
      "AssertionErrorif w.is_alive():if w.is_alive():  File \"/usr/lib/python3.10/multiprocessing/process.py\", line 160, in is_alive\n",
      "\n",
      ": \n",
      "    can only test a child process  File \"/usr/lib/python3.10/multiprocessing/process.py\", line 160, in is_alive\n",
      "\n",
      "assert self._parent_pid == os.getpid(), 'can only test a child process'  File \"/usr/lib/python3.10/multiprocessing/process.py\", line 160, in is_alive\n",
      "    assert self._parent_pid == os.getpid(), 'can only test a child process'    \n",
      "Exception ignored in: AssertionError\n",
      "assert self._parent_pid == os.getpid(), 'can only test a child process'    : AssertionError\n",
      "<function _MultiProcessingDataLoaderIter.__del__ at 0x7fc9f8931090>if w.is_alive():: can only test a child process\n",
      "AssertionErrorcan only test a child process\n",
      "\n",
      "Traceback (most recent call last):\n",
      ": \n",
      "can only test a child process\n",
      "  File \"/mnt/d/Meet/Company/Orange Eva Publication/Jupyter Notebook/onnx_env/lib/python3.10/site-packages/torch/utils/data/dataloader.py\", line 1618, in __del__\n",
      "  File \"/usr/lib/python3.10/multiprocessing/process.py\", line 160, in is_alive\n",
      "    assert self._parent_pid == os.getpid(), 'can only test a child process'\n",
      "AssertionError: can only test a child process    \n",
      "self._shutdown_workers()\n",
      "  File \"/mnt/d/Meet/Company/Orange Eva Publication/Jupyter Notebook/onnx_env/lib/python3.10/site-packages/torch/utils/data/dataloader.py\", line 1601, in _shutdown_workers\n",
      "Exception ignored in: <function _MultiProcessingDataLoaderIter.__del__ at 0x7fc9f8931090>\n",
      "Traceback (most recent call last):\n",
      "  File \"/mnt/d/Meet/Company/Orange Eva Publication/Jupyter Notebook/onnx_env/lib/python3.10/site-packages/torch/utils/data/dataloader.py\", line 1618, in __del__\n",
      "        if w.is_alive():self._shutdown_workers()\n",
      "\n",
      "  File \"/usr/lib/python3.10/multiprocessing/process.py\", line 160, in is_alive\n",
      "  File \"/mnt/d/Meet/Company/Orange Eva Publication/Jupyter Notebook/onnx_env/lib/python3.10/site-packages/torch/utils/data/dataloader.py\", line 1601, in _shutdown_workers\n",
      "    assert self._parent_pid == os.getpid(), 'can only test a child process'\n",
      "AssertionError:     can only test a child processif w.is_alive():\n",
      "\n",
      "  File \"/usr/lib/python3.10/multiprocessing/process.py\", line 160, in is_alive\n",
      "    assert self._parent_pid == os.getpid(), 'can only test a child process'\n",
      "AssertionError: can only test a child process\n"
     ]
    },
    {
     "name": "stdout",
     "output_type": "stream",
     "text": [
      "Test Accuracy: 94.77%\n"
     ]
    },
    {
     "data": {
      "application/vnd.jupyter.widget-view+json": {
       "model_id": "51e7f6144aee4c5485617f8412d26eb0",
       "version_major": 2,
       "version_minor": 0
      },
      "text/plain": [
       "  0%|          | 0/147 [00:00<?, ?it/s]"
      ]
     },
     "metadata": {},
     "output_type": "display_data"
    },
    {
     "name": "stdout",
     "output_type": "stream",
     "text": [
      "Test Accuracy: 94.77%\n",
      "[Step-2] Accuracy after re-training: 94.77%\n",
      "[Step-3] Pruning the model. Prune ratio=0.1\n"
     ]
    },
    {
     "data": {
      "application/vnd.jupyter.widget-view+json": {
       "model_id": "472ad4962f4f43e7abe410d89c16660c",
       "version_major": 2,
       "version_minor": 0
      },
      "text/plain": [
       "  0%|          | 0/151 [00:00<?, ?it/s]"
      ]
     },
     "metadata": {},
     "output_type": "display_data"
    },
    {
     "name": "stdout",
     "output_type": "stream",
     "text": [
      "[Step-3] Base model params: 18,756,720\n",
      "[Step-3] Pruned model params: 16,990,908\n",
      "[Step-3] %age params after pruning: 90.59 %\n"
     ]
    },
    {
     "data": {
      "application/vnd.jupyter.widget-view+json": {
       "model_id": "95058cfd985c42b485913c0490176870",
       "version_major": 2,
       "version_minor": 0
      },
      "text/plain": [
       "  0%|          | 0/147 [00:00<?, ?it/s]"
      ]
     },
     "metadata": {},
     "output_type": "display_data"
    },
    {
     "name": "stderr",
     "output_type": "stream",
     "text": [
      "Exception ignored in: Exception ignored in: Exception ignored in: <function _MultiProcessingDataLoaderIter.__del__ at 0x7fc9f8931090>\n",
      "<function _MultiProcessingDataLoaderIter.__del__ at 0x7fc9f8931090>\n",
      "Traceback (most recent call last):\n",
      "  File \"/mnt/d/Meet/Company/Orange Eva Publication/Jupyter Notebook/onnx_env/lib/python3.10/site-packages/torch/utils/data/dataloader.py\", line 1618, in __del__\n",
      "<function _MultiProcessingDataLoaderIter.__del__ at 0x7fc9f8931090>Traceback (most recent call last):\n",
      "\n",
      "  File \"/mnt/d/Meet/Company/Orange Eva Publication/Jupyter Notebook/onnx_env/lib/python3.10/site-packages/torch/utils/data/dataloader.py\", line 1618, in __del__\n",
      "Traceback (most recent call last):\n",
      "  File \"/mnt/d/Meet/Company/Orange Eva Publication/Jupyter Notebook/onnx_env/lib/python3.10/site-packages/torch/utils/data/dataloader.py\", line 1618, in __del__\n",
      "            self._shutdown_workers()self._shutdown_workers()\n",
      "\n",
      "  File \"/mnt/d/Meet/Company/Orange Eva Publication/Jupyter Notebook/onnx_env/lib/python3.10/site-packages/torch/utils/data/dataloader.py\", line 1601, in _shutdown_workers\n",
      "  File \"/mnt/d/Meet/Company/Orange Eva Publication/Jupyter Notebook/onnx_env/lib/python3.10/site-packages/torch/utils/data/dataloader.py\", line 1601, in _shutdown_workers\n",
      "self._shutdown_workers()Exception ignored in: \n",
      "  File \"/mnt/d/Meet/Company/Orange Eva Publication/Jupyter Notebook/onnx_env/lib/python3.10/site-packages/torch/utils/data/dataloader.py\", line 1601, in _shutdown_workers\n",
      "        if w.is_alive():if w.is_alive():\n",
      "\n",
      "  File \"/usr/lib/python3.10/multiprocessing/process.py\", line 160, in is_alive\n",
      "  File \"/usr/lib/python3.10/multiprocessing/process.py\", line 160, in is_alive\n",
      "            assert self._parent_pid == os.getpid(), 'can only test a child process'assert self._parent_pid == os.getpid(), 'can only test a child process'if w.is_alive():\n",
      "\n",
      "AssertionError\n",
      "<function _MultiProcessingDataLoaderIter.__del__ at 0x7fc9f8931090>AssertionError  File \"/usr/lib/python3.10/multiprocessing/process.py\", line 160, in is_alive\n",
      ": : \n",
      "    Traceback (most recent call last):\n",
      "can only test a child processassert self._parent_pid == os.getpid(), 'can only test a child process'can only test a child process\n",
      "  File \"/mnt/d/Meet/Company/Orange Eva Publication/Jupyter Notebook/onnx_env/lib/python3.10/site-packages/torch/utils/data/dataloader.py\", line 1618, in __del__\n",
      "\n",
      "AssertionError\n",
      ": can only test a child process\n",
      "    self._shutdown_workers()\n",
      "  File \"/mnt/d/Meet/Company/Orange Eva Publication/Jupyter Notebook/onnx_env/lib/python3.10/site-packages/torch/utils/data/dataloader.py\", line 1601, in _shutdown_workers\n",
      "    if w.is_alive():\n",
      "  File \"/usr/lib/python3.10/multiprocessing/process.py\", line 160, in is_alive\n",
      "Exception ignored in:     <function _MultiProcessingDataLoaderIter.__del__ at 0x7fc9f8931090>assert self._parent_pid == os.getpid(), 'can only test a child process'\n",
      "Traceback (most recent call last):\n",
      "\n",
      "Exception ignored in:   File \"/mnt/d/Meet/Company/Orange Eva Publication/Jupyter Notebook/onnx_env/lib/python3.10/site-packages/torch/utils/data/dataloader.py\", line 1618, in __del__\n",
      "AssertionError<function _MultiProcessingDataLoaderIter.__del__ at 0x7fc9f8931090>\n",
      "Traceback (most recent call last):\n",
      ":   File \"/mnt/d/Meet/Company/Orange Eva Publication/Jupyter Notebook/onnx_env/lib/python3.10/site-packages/torch/utils/data/dataloader.py\", line 1618, in __del__\n",
      "    can only test a child processException ignored in: self._shutdown_workers()\n",
      "\n",
      "<function _MultiProcessingDataLoaderIter.__del__ at 0x7fc9f8931090>  File \"/mnt/d/Meet/Company/Orange Eva Publication/Jupyter Notebook/onnx_env/lib/python3.10/site-packages/torch/utils/data/dataloader.py\", line 1601, in _shutdown_workers\n",
      "\n",
      "Traceback (most recent call last):\n",
      "  File \"/mnt/d/Meet/Company/Orange Eva Publication/Jupyter Notebook/onnx_env/lib/python3.10/site-packages/torch/utils/data/dataloader.py\", line 1618, in __del__\n",
      "    self._shutdown_workers()    \n",
      "    if w.is_alive():self._shutdown_workers()  File \"/mnt/d/Meet/Company/Orange Eva Publication/Jupyter Notebook/onnx_env/lib/python3.10/site-packages/torch/utils/data/dataloader.py\", line 1601, in _shutdown_workers\n",
      "\n",
      "  File \"/usr/lib/python3.10/multiprocessing/process.py\", line 160, in is_alive\n",
      "\n",
      "  File \"/mnt/d/Meet/Company/Orange Eva Publication/Jupyter Notebook/onnx_env/lib/python3.10/site-packages/torch/utils/data/dataloader.py\", line 1601, in _shutdown_workers\n",
      "    assert self._parent_pid == os.getpid(), 'can only test a child process'\n",
      "AssertionError    :     can only test a child processif w.is_alive():\n",
      "if w.is_alive():\n",
      "\n",
      "  File \"/usr/lib/python3.10/multiprocessing/process.py\", line 160, in is_alive\n",
      "Exception ignored in:     <function _MultiProcessingDataLoaderIter.__del__ at 0x7fc9f8931090>  File \"/usr/lib/python3.10/multiprocessing/process.py\", line 160, in is_alive\n",
      "assert self._parent_pid == os.getpid(), 'can only test a child process'\n",
      "\n",
      "Traceback (most recent call last):\n",
      "    AssertionError  File \"/mnt/d/Meet/Company/Orange Eva Publication/Jupyter Notebook/onnx_env/lib/python3.10/site-packages/torch/utils/data/dataloader.py\", line 1618, in __del__\n",
      ": assert self._parent_pid == os.getpid(), 'can only test a child process'can only test a child process\n",
      "\n",
      "AssertionError: can only test a child process\n",
      "    self._shutdown_workers()\n",
      "  File \"/mnt/d/Meet/Company/Orange Eva Publication/Jupyter Notebook/onnx_env/lib/python3.10/site-packages/torch/utils/data/dataloader.py\", line 1601, in _shutdown_workers\n",
      "    if w.is_alive():\n",
      "  File \"/usr/lib/python3.10/multiprocessing/process.py\", line 160, in is_alive\n",
      "    assert self._parent_pid == os.getpid(), 'can only test a child process'\n",
      "AssertionError: can only test a child process\n"
     ]
    },
    {
     "name": "stdout",
     "output_type": "stream",
     "text": [
      "Test Accuracy: 49.62%\n",
      "[Step-3] Accuracy after pruning: 49.62%\n"
     ]
    },
    {
     "data": {
      "application/vnd.jupyter.widget-view+json": {
       "model_id": "b92b37a7da45411ca34c603ff556c556",
       "version_major": 2,
       "version_minor": 0
      },
      "text/plain": [
       "  0%|          | 0/586 [00:00<?, ?it/s]"
      ]
     },
     "metadata": {},
     "output_type": "display_data"
    },
    {
     "name": "stdout",
     "output_type": "stream",
     "text": [
      "Epoch 1/1, Loss: 0.11634316487768633, Accuracy: 95.30%\n"
     ]
    },
    {
     "data": {
      "application/vnd.jupyter.widget-view+json": {
       "model_id": "d7828b2fd4de44c5855013d9bbb387ea",
       "version_major": 2,
       "version_minor": 0
      },
      "text/plain": [
       "  0%|          | 0/147 [00:00<?, ?it/s]"
      ]
     },
     "metadata": {},
     "output_type": "display_data"
    },
    {
     "name": "stdout",
     "output_type": "stream",
     "text": [
      "Test Accuracy: 94.40%\n"
     ]
    },
    {
     "data": {
      "application/vnd.jupyter.widget-view+json": {
       "model_id": "4c99e65d52c749d3b95ceec6b6cbd223",
       "version_major": 2,
       "version_minor": 0
      },
      "text/plain": [
       "  0%|          | 0/147 [00:00<?, ?it/s]"
      ]
     },
     "metadata": {},
     "output_type": "display_data"
    },
    {
     "name": "stderr",
     "output_type": "stream",
     "text": [
      "Exception ignored in: <function _MultiProcessingDataLoaderIter.__del__ at 0x7fc9f8931090>\n",
      "Traceback (most recent call last):\n",
      "  File \"/mnt/d/Meet/Company/Orange Eva Publication/Jupyter Notebook/onnx_env/lib/python3.10/site-packages/torch/utils/data/dataloader.py\", line 1618, in __del__\n",
      "    self._shutdown_workers()\n",
      "  File \"/mnt/d/Meet/Company/Orange Eva Publication/Jupyter Notebook/onnx_env/lib/python3.10/site-packages/torch/utils/data/dataloader.py\", line 1601, in _shutdown_workers\n",
      "    if w.is_alive():\n",
      "  File \"/usr/lib/python3.10/multiprocessing/process.py\", line 160, in is_alive\n",
      "    assert self._parent_pid == os.getpid(), 'can only test a child process'\n",
      "AssertionError: can only test a child process\n",
      "Exception ignored in: <function _MultiProcessingDataLoaderIter.__del__ at 0x7fc9f8931090>\n",
      "Traceback (most recent call last):\n",
      "  File \"/mnt/d/Meet/Company/Orange Eva Publication/Jupyter Notebook/onnx_env/lib/python3.10/site-packages/torch/utils/data/dataloader.py\", line 1618, in __del__\n",
      "    self._shutdown_workers()\n",
      "  File \"/mnt/d/Meet/Company/Orange Eva Publication/Jupyter Notebook/onnx_env/lib/python3.10/site-packages/torch/utils/data/dataloader.py\", line 1601, in _shutdown_workers\n",
      "    if w.is_alive():\n",
      "  File \"/usr/lib/python3.10/multiprocessing/process.py\", line 160, in is_alive\n",
      "    assert self._parent_pid == os.getpid(), 'can only test a child process'\n",
      "AssertionError: can only test a child process\n",
      "Exception ignored in: <function _MultiProcessingDataLoaderIter.__del__ at 0x7fc9f8931090>\n",
      "Traceback (most recent call last):\n",
      "  File \"/mnt/d/Meet/Company/Orange Eva Publication/Jupyter Notebook/onnx_env/lib/python3.10/site-packages/torch/utils/data/dataloader.py\", line 1618, in __del__\n",
      "    self._shutdown_workers()\n",
      "  File \"/mnt/d/Meet/Company/Orange Eva Publication/Jupyter Notebook/onnx_env/lib/python3.10/site-packages/torch/utils/data/dataloader.py\", line 1601, in _shutdown_workers\n",
      "    if w.is_alive():\n",
      "  File \"/usr/lib/python3.10/multiprocessing/process.py\", line 160, in is_alive\n",
      "    assert self._parent_pid == os.getpid(), 'can only test a child process'\n",
      "AssertionError: can only test a child process\n",
      "Exception ignored in: <function _MultiProcessingDataLoaderIter.__del__ at 0x7fc9f8931090>\n",
      "Traceback (most recent call last):\n",
      "  File \"/mnt/d/Meet/Company/Orange Eva Publication/Jupyter Notebook/onnx_env/lib/python3.10/site-packages/torch/utils/data/dataloader.py\", line 1618, in __del__\n",
      "    self._shutdown_workers()\n",
      "  File \"/mnt/d/Meet/Company/Orange Eva Publication/Jupyter Notebook/onnx_env/lib/python3.10/site-packages/torch/utils/data/dataloader.py\", line 1601, in _shutdown_workers\n",
      "    if w.is_alive():\n",
      "  File \"/usr/lib/python3.10/multiprocessing/process.py\", line 160, in is_alive\n",
      "    assert self._parent_pid == os.getpid(), 'can only test a child process'\n",
      "AssertionError: can only test a child process\n",
      "Exception ignored in: <function _MultiProcessingDataLoaderIter.__del__ at 0x7fc9f8931090>\n",
      "Traceback (most recent call last):\n",
      "  File \"/mnt/d/Meet/Company/Orange Eva Publication/Jupyter Notebook/onnx_env/lib/python3.10/site-packages/torch/utils/data/dataloader.py\", line 1618, in __del__\n",
      "    self._shutdown_workers()\n",
      "  File \"/mnt/d/Meet/Company/Orange Eva Publication/Jupyter Notebook/onnx_env/lib/python3.10/site-packages/torch/utils/data/dataloader.py\", line 1601, in _shutdown_workers\n",
      "    if w.is_alive():\n",
      "  File \"/usr/lib/python3.10/multiprocessing/process.py\", line 160, in is_alive\n",
      "    assert self._parent_pid == os.getpid(), 'can only test a child process'\n",
      "AssertionError: can only test a child process\n",
      "Exception ignored in: <function _MultiProcessingDataLoaderIter.__del__ at 0x7fc9f8931090>\n",
      "Traceback (most recent call last):\n",
      "  File \"/mnt/d/Meet/Company/Orange Eva Publication/Jupyter Notebook/onnx_env/lib/python3.10/site-packages/torch/utils/data/dataloader.py\", line 1618, in __del__\n",
      "    self._shutdown_workers()\n",
      "  File \"/mnt/d/Meet/Company/Orange Eva Publication/Jupyter Notebook/onnx_env/lib/python3.10/site-packages/torch/utils/data/dataloader.py\", line 1601, in _shutdown_workers\n",
      "    if w.is_alive():\n",
      "  File \"/usr/lib/python3.10/multiprocessing/process.py\", line 160, in is_alive\n",
      "    assert self._parent_pid == os.getpid(), 'can only test a child process'\n",
      "AssertionError: can only test a child process\n",
      "Exception ignored in: <function _MultiProcessingDataLoaderIter.__del__ at 0x7fc9f8931090>\n",
      "Traceback (most recent call last):\n",
      "  File \"/mnt/d/Meet/Company/Orange Eva Publication/Jupyter Notebook/onnx_env/lib/python3.10/site-packages/torch/utils/data/dataloader.py\", line 1618, in __del__\n",
      "    self._shutdown_workers()\n",
      "  File \"/mnt/d/Meet/Company/Orange Eva Publication/Jupyter Notebook/onnx_env/lib/python3.10/site-packages/torch/utils/data/dataloader.py\", line 1601, in _shutdown_workers\n",
      "    if w.is_alive():\n",
      "  File \"/usr/lib/python3.10/multiprocessing/process.py\", line 160, in is_alive\n",
      "    assert self._parent_pid == os.getpid(), 'can only test a child process'\n",
      "AssertionError: can only test a child process\n",
      "Exception ignored in: <function _MultiProcessingDataLoaderIter.__del__ at 0x7fc9f8931090>\n",
      "Traceback (most recent call last):\n",
      "  File \"/mnt/d/Meet/Company/Orange Eva Publication/Jupyter Notebook/onnx_env/lib/python3.10/site-packages/torch/utils/data/dataloader.py\", line 1618, in __del__\n",
      "    self._shutdown_workers()\n",
      "  File \"/mnt/d/Meet/Company/Orange Eva Publication/Jupyter Notebook/onnx_env/lib/python3.10/site-packages/torch/utils/data/dataloader.py\", line 1601, in _shutdown_workers\n",
      "    if w.is_alive():\n",
      "  File \"/usr/lib/python3.10/multiprocessing/process.py\", line 160, in is_alive\n",
      "    assert self._parent_pid == os.getpid(), 'can only test a child process'\n",
      "AssertionError: can only test a child process\n"
     ]
    },
    {
     "name": "stdout",
     "output_type": "stream",
     "text": [
      "Test Accuracy: 94.40%\n",
      "[Step-3] Accuracy after re-training: 94.40%\n"
     ]
    }
   ],
   "source": [
    "pruning_iters = 3\n",
    "prune_ratio = 0.1\n",
    "\n",
    "model = base_model\n",
    "for i in tqdm(range(pruning_iters)):\n",
    "    print(f\"[Step-{i+1}] Pruning the model. Prune ratio={prune_ratio}\")\n",
    "    model = model.to(\"cpu\")\n",
    "    pruned_model, prune_percentage, base_param_cnt, prune_param_cnt = (\n",
    "        apply_structured_pruning(model, prune_ratio=prune_ratio)\n",
    "    )\n",
    "    print(f\"[Step-{i+1}] Base model params: {base_param_cnt:,}\")\n",
    "    print(f\"[Step-{i+1}] Pruned model params: {prune_param_cnt:,}\")\n",
    "    print(f\"[Step-{i+1}] %age params after pruning: {prune_percentage:.2f} %\")\n",
    "\n",
    "    pruned_model.to(DEVICE)\n",
    "    dummy_input = torch.randn(1, 3, 224, 224).to(torch.float32).to(DEVICE)\n",
    "    pruned_model(dummy_input)\n",
    "\n",
    "    # Measure accuracy\n",
    "    PRUNED_MODEL_NAME = f\"{MODEL_NAME}_pruned_iter_{i+1}\"\n",
    "    prune_trainer = Trainer(\n",
    "        pruned_model,\n",
    "        train_dataset,\n",
    "        test_dataset,\n",
    "        BATCH_SIZE,\n",
    "        NUM_WORKERS,\n",
    "        1,\n",
    "        LR,\n",
    "        DEVICE,\n",
    "        PRUNED_MODEL_NAME,\n",
    "    )\n",
    "    prune_acc = prune_trainer.test()\n",
    "    print(f\"[Step-{i+1}] Accuracy after pruning: {prune_acc:.2f}%\")\n",
    "\n",
    "    # Recovery training\n",
    "    prune_trainer.fit()\n",
    "    prune_acc = prune_trainer.test()\n",
    "    print(f\"[Step-{i+1}] Accuracy after re-training: {prune_acc:.2f}%\")\n",
    "\n",
    "    model = pruned_model\n",
    "\n",
    "structured_pruned_model = model"
   ]
  },
  {
   "cell_type": "code",
   "execution_count": 21,
   "id": "5fb25560-912c-4f3b-aea2-ef856462a92b",
   "metadata": {},
   "outputs": [
    {
     "data": {
      "application/vnd.jupyter.widget-view+json": {
       "model_id": "0769ac448b204332b9db34301874d19b",
       "version_major": 2,
       "version_minor": 0
      },
      "text/plain": [
       "  0%|          | 0/147 [00:00<?, ?it/s]"
      ]
     },
     "metadata": {},
     "output_type": "display_data"
    },
    {
     "name": "stderr",
     "output_type": "stream",
     "text": [
      "Exception ignored in: <function _MultiProcessingDataLoaderIter.__del__ at 0x7fc9f8931090>\n",
      "Traceback (most recent call last):\n",
      "  File \"/mnt/d/Meet/Company/Orange Eva Publication/Jupyter Notebook/onnx_env/lib/python3.10/site-packages/torch/utils/data/dataloader.py\", line 1618, in __del__\n",
      "Exception ignored in: <function _MultiProcessingDataLoaderIter.__del__ at 0x7fc9f8931090>\n",
      "Traceback (most recent call last):\n",
      "    self._shutdown_workers()\n",
      "  File \"/mnt/d/Meet/Company/Orange Eva Publication/Jupyter Notebook/onnx_env/lib/python3.10/site-packages/torch/utils/data/dataloader.py\", line 1618, in __del__\n",
      "  File \"/mnt/d/Meet/Company/Orange Eva Publication/Jupyter Notebook/onnx_env/lib/python3.10/site-packages/torch/utils/data/dataloader.py\", line 1601, in _shutdown_workers\n",
      "        if w.is_alive():self._shutdown_workers()\n",
      "\n",
      "  File \"/mnt/d/Meet/Company/Orange Eva Publication/Jupyter Notebook/onnx_env/lib/python3.10/site-packages/torch/utils/data/dataloader.py\", line 1601, in _shutdown_workers\n",
      "  File \"/usr/lib/python3.10/multiprocessing/process.py\", line 160, in is_alive\n",
      "    assert self._parent_pid == os.getpid(), 'can only test a child process'\n",
      "AssertionError:     can only test a child processif w.is_alive():\n",
      "Exception ignored in: \n",
      "  File \"/usr/lib/python3.10/multiprocessing/process.py\", line 160, in is_alive\n",
      "<function _MultiProcessingDataLoaderIter.__del__ at 0x7fc9f8931090>    \n",
      "assert self._parent_pid == os.getpid(), 'can only test a child process'Exception ignored in: Traceback (most recent call last):\n",
      "\n",
      "<function _MultiProcessingDataLoaderIter.__del__ at 0x7fc9f8931090>AssertionError\n",
      "  File \"/mnt/d/Meet/Company/Orange Eva Publication/Jupyter Notebook/onnx_env/lib/python3.10/site-packages/torch/utils/data/dataloader.py\", line 1618, in __del__\n",
      ": Traceback (most recent call last):\n",
      "can only test a child process  File \"/mnt/d/Meet/Company/Orange Eva Publication/Jupyter Notebook/onnx_env/lib/python3.10/site-packages/torch/utils/data/dataloader.py\", line 1618, in __del__\n",
      "\n",
      "    self._shutdown_workers()    \n",
      "Exception ignored in:   File \"/mnt/d/Meet/Company/Orange Eva Publication/Jupyter Notebook/onnx_env/lib/python3.10/site-packages/torch/utils/data/dataloader.py\", line 1601, in _shutdown_workers\n",
      "<function _MultiProcessingDataLoaderIter.__del__ at 0x7fc9f8931090>self._shutdown_workers()\n",
      "\n",
      "Traceback (most recent call last):\n",
      "  File \"/mnt/d/Meet/Company/Orange Eva Publication/Jupyter Notebook/onnx_env/lib/python3.10/site-packages/torch/utils/data/dataloader.py\", line 1601, in _shutdown_workers\n",
      "Exception ignored in:   File \"/mnt/d/Meet/Company/Orange Eva Publication/Jupyter Notebook/onnx_env/lib/python3.10/site-packages/torch/utils/data/dataloader.py\", line 1618, in __del__\n",
      "    if w.is_alive():\n",
      "          File \"/usr/lib/python3.10/multiprocessing/process.py\", line 160, in is_alive\n",
      "if w.is_alive():self._shutdown_workers()    \n",
      "\n",
      "  File \"/usr/lib/python3.10/multiprocessing/process.py\", line 160, in is_alive\n",
      "assert self._parent_pid == os.getpid(), 'can only test a child process'\n",
      "      File \"/mnt/d/Meet/Company/Orange Eva Publication/Jupyter Notebook/onnx_env/lib/python3.10/site-packages/torch/utils/data/dataloader.py\", line 1601, in _shutdown_workers\n",
      "<function _MultiProcessingDataLoaderIter.__del__ at 0x7fc9f8931090>AssertionErrorassert self._parent_pid == os.getpid(), 'can only test a child process'\n",
      ": \n",
      "Traceback (most recent call last):\n",
      "can only test a child processAssertionError  File \"/mnt/d/Meet/Company/Orange Eva Publication/Jupyter Notebook/onnx_env/lib/python3.10/site-packages/torch/utils/data/dataloader.py\", line 1618, in __del__\n",
      "\n",
      ": can only test a child process\n",
      "Exception ignored in:     <function _MultiProcessingDataLoaderIter.__del__ at 0x7fc9f8931090>if w.is_alive():Exception ignored in:     \n",
      "\n",
      "  File \"/usr/lib/python3.10/multiprocessing/process.py\", line 160, in is_alive\n",
      "Traceback (most recent call last):\n",
      "self._shutdown_workers()    \n",
      "  File \"/mnt/d/Meet/Company/Orange Eva Publication/Jupyter Notebook/onnx_env/lib/python3.10/site-packages/torch/utils/data/dataloader.py\", line 1601, in _shutdown_workers\n",
      "  File \"/mnt/d/Meet/Company/Orange Eva Publication/Jupyter Notebook/onnx_env/lib/python3.10/site-packages/torch/utils/data/dataloader.py\", line 1618, in __del__\n",
      "assert self._parent_pid == os.getpid(), 'can only test a child process'\n",
      "AssertionError:         <function _MultiProcessingDataLoaderIter.__del__ at 0x7fc9f8931090>can only test a child processself._shutdown_workers()\n",
      "if w.is_alive():\n",
      "Traceback (most recent call last):\n",
      "\n",
      "  File \"/mnt/d/Meet/Company/Orange Eva Publication/Jupyter Notebook/onnx_env/lib/python3.10/site-packages/torch/utils/data/dataloader.py\", line 1601, in _shutdown_workers\n",
      "  File \"/mnt/d/Meet/Company/Orange Eva Publication/Jupyter Notebook/onnx_env/lib/python3.10/site-packages/torch/utils/data/dataloader.py\", line 1618, in __del__\n",
      "  File \"/usr/lib/python3.10/multiprocessing/process.py\", line 160, in is_alive\n",
      "    assert self._parent_pid == os.getpid(), 'can only test a child process'    \n",
      "\n",
      "self._shutdown_workers()    AssertionError\n",
      "if w.is_alive():Exception ignored in:   File \"/mnt/d/Meet/Company/Orange Eva Publication/Jupyter Notebook/onnx_env/lib/python3.10/site-packages/torch/utils/data/dataloader.py\", line 1601, in _shutdown_workers\n",
      "<function _MultiProcessingDataLoaderIter.__del__ at 0x7fc9f8931090>\n",
      "\n",
      "  File \"/usr/lib/python3.10/multiprocessing/process.py\", line 160, in is_alive\n",
      "    Traceback (most recent call last):\n",
      "  File \"/mnt/d/Meet/Company/Orange Eva Publication/Jupyter Notebook/onnx_env/lib/python3.10/site-packages/torch/utils/data/dataloader.py\", line 1618, in __del__\n",
      ": can only test a child process    assert self._parent_pid == os.getpid(), 'can only test a child process'\n",
      "if w.is_alive():\n",
      "\n",
      "AssertionErrorException ignored in: :   File \"/usr/lib/python3.10/multiprocessing/process.py\", line 160, in is_alive\n",
      "<function _MultiProcessingDataLoaderIter.__del__ at 0x7fc9f8931090>    can only test a child process\n",
      "    assert self._parent_pid == os.getpid(), 'can only test a child process'\n",
      "Traceback (most recent call last):\n",
      "self._shutdown_workers()\n",
      "  File \"/mnt/d/Meet/Company/Orange Eva Publication/Jupyter Notebook/onnx_env/lib/python3.10/site-packages/torch/utils/data/dataloader.py\", line 1618, in __del__\n",
      "\n",
      "AssertionError  File \"/mnt/d/Meet/Company/Orange Eva Publication/Jupyter Notebook/onnx_env/lib/python3.10/site-packages/torch/utils/data/dataloader.py\", line 1601, in _shutdown_workers\n",
      ": Exception ignored in: can only test a child process<function _MultiProcessingDataLoaderIter.__del__ at 0x7fc9f8931090>\n",
      "\n",
      "Traceback (most recent call last):\n",
      "      File \"/mnt/d/Meet/Company/Orange Eva Publication/Jupyter Notebook/onnx_env/lib/python3.10/site-packages/torch/utils/data/dataloader.py\", line 1618, in __del__\n",
      "    self._shutdown_workers()\n",
      "  File \"/mnt/d/Meet/Company/Orange Eva Publication/Jupyter Notebook/onnx_env/lib/python3.10/site-packages/torch/utils/data/dataloader.py\", line 1601, in _shutdown_workers\n",
      "if w.is_alive():\n",
      "      File \"/usr/lib/python3.10/multiprocessing/process.py\", line 160, in is_alive\n",
      "self._shutdown_workers()    \n",
      "    assert self._parent_pid == os.getpid(), 'can only test a child process'  File \"/mnt/d/Meet/Company/Orange Eva Publication/Jupyter Notebook/onnx_env/lib/python3.10/site-packages/torch/utils/data/dataloader.py\", line 1601, in _shutdown_workers\n",
      "if w.is_alive():\n",
      "\n",
      "AssertionError:   File \"/usr/lib/python3.10/multiprocessing/process.py\", line 160, in is_alive\n",
      "can only test a child process    \n",
      "assert self._parent_pid == os.getpid(), 'can only test a child process'    \n",
      "if w.is_alive():AssertionError\n",
      ":   File \"/usr/lib/python3.10/multiprocessing/process.py\", line 160, in is_alive\n",
      "can only test a child process\n",
      "    assert self._parent_pid == os.getpid(), 'can only test a child process'\n",
      "AssertionErrorException ignored in: : <function _MultiProcessingDataLoaderIter.__del__ at 0x7fc9f8931090>can only test a child process\n",
      "\n",
      "Traceback (most recent call last):\n",
      "  File \"/mnt/d/Meet/Company/Orange Eva Publication/Jupyter Notebook/onnx_env/lib/python3.10/site-packages/torch/utils/data/dataloader.py\", line 1618, in __del__\n",
      "    self._shutdown_workers()\n",
      "  File \"/mnt/d/Meet/Company/Orange Eva Publication/Jupyter Notebook/onnx_env/lib/python3.10/site-packages/torch/utils/data/dataloader.py\", line 1601, in _shutdown_workers\n",
      "    if w.is_alive():\n",
      "  File \"/usr/lib/python3.10/multiprocessing/process.py\", line 160, in is_alive\n",
      "    assert self._parent_pid == os.getpid(), 'can only test a child process'\n",
      "AssertionError: can only test a child process\n"
     ]
    },
    {
     "name": "stdout",
     "output_type": "stream",
     "text": [
      "Test Accuracy: 94.40%\n",
      "Base model params count: 23,485,568\n",
      "Structurally Pruned model params count: 16,990,908\n",
      "Model's overall sparsity: 72.35 %\n",
      "Accuracy after applying unstructured pruning: 94.40%\n"
     ]
    }
   ],
   "source": [
    "structured_pruned_model_name = \"resnet50_cats_dogs_structured_prune\"\n",
    "\n",
    "structured_prune_trainer = Trainer(\n",
    "    structured_pruned_model, train_dataset, test_dataset, BATCH_SIZE, NUM_WORKERS, \n",
    "    EPOCHS, LR, DEVICE, structured_pruned_model_name\n",
    ")\n",
    "structured_pruned_acc = structured_prune_trainer.test()\n",
    "\n",
    "model_sparsity, base_model_params, pruned_model_params = compute_structured_sparsity(base_model, structured_pruned_model)\n",
    "\n",
    "print(f\"Base model params count: {base_model_params:,}\")\n",
    "print(f\"Structurally Pruned model params count: {pruned_model_params:,}\")\n",
    "print(f\"Model's overall sparsity: {model_sparsity*100:.2f} %\")\n",
    "print(f\"Accuracy after applying unstructured pruning: {structured_pruned_acc:.2f}%\")"
   ]
  },
  {
   "cell_type": "markdown",
   "id": "9d88772c-0c42-44f9-87ce-1305edb44dd2",
   "metadata": {},
   "source": [
    "#### After performing structured pruning, the model's parameter count decreased from 23,485,568 to 16,990,908, representing a reduction of approximately 28%. Additionally, the model's accuracy decreased slightly from 95.39% to 94.40%, a drop of just 1.01%. This decrease in accuracy is minimal when compared to the 28% reduction in the number of parameters."
   ]
  },
  {
   "cell_type": "code",
   "execution_count": 22,
   "id": "38f90a81-6084-4758-877b-69734c8cf580",
   "metadata": {},
   "outputs": [
    {
     "name": "stdout",
     "output_type": "stream",
     "text": [
      "Weights before pruning\n",
      "tensor([[[[-2.4183e-03]],\n",
      "\n",
      "         [[ 1.6129e-02]],\n",
      "\n",
      "         [[ 1.1725e-02]]],\n",
      "\n",
      "\n",
      "        [[[ 4.3987e-02]],\n",
      "\n",
      "         [[ 3.0392e-02]],\n",
      "\n",
      "         [[ 1.8671e-02]]],\n",
      "\n",
      "\n",
      "        [[[-3.4788e-02]],\n",
      "\n",
      "         [[ 3.7122e-03]],\n",
      "\n",
      "         [[ 1.9509e-05]]]])\n",
      "\n",
      "Shape of the weight before pruning\n",
      "torch.Size([512, 1024, 1, 1])\n"
     ]
    }
   ],
   "source": [
    "# Check weights of the original model for layer4 of model.\n",
    "\n",
    "print(\"Weights before pruning\")\n",
    "print(base_model.model.layer4[0].conv1.weight.data[:3, :3, :, :])\n",
    "print(\"\\nShape of the weight before pruning\")\n",
    "print(base_model.model.layer4[0].conv1.weight.data.shape)"
   ]
  },
  {
   "cell_type": "code",
   "execution_count": 23,
   "id": "7505e880-ceff-4e9b-b264-ed71f08035c9",
   "metadata": {},
   "outputs": [
    {
     "name": "stdout",
     "output_type": "stream",
     "text": [
      "Weights after structured pruning\n",
      "tensor([[[[-0.0286]],\n",
      "\n",
      "         [[-0.0179]],\n",
      "\n",
      "         [[ 0.0131]]],\n",
      "\n",
      "\n",
      "        [[[-0.0385]],\n",
      "\n",
      "         [[ 0.0290]],\n",
      "\n",
      "         [[-0.0172]]],\n",
      "\n",
      "\n",
      "        [[[ 0.0439]],\n",
      "\n",
      "         [[-0.0122]],\n",
      "\n",
      "         [[-0.0087]]]], device='cuda:0')\n",
      "\n",
      "Shape of the weight after pruning\n",
      "torch.Size([373, 1024, 1, 1])\n",
      "\n",
      "Shape of the weight after layer4 conv in pruned model\n",
      "torch.Size([373, 373, 3, 3])\n"
     ]
    }
   ],
   "source": [
    "# Check weights of the pruned model for layer4 of model.\n",
    "\n",
    "print(\"Weights after structured pruning\")\n",
    "print(structured_pruned_model.model.layer4[0].conv1.weight.data[:3, :3, :, :])\n",
    "print(\"\\nShape of the weight after pruning\")\n",
    "print(structured_pruned_model.model.layer4[0].conv1.weight.data.shape)\n",
    "\n",
    "print(\"\\nShape of the weight after layer4 conv in pruned model\")\n",
    "print(structured_pruned_model.model.layer4[0].conv2.weight.data.shape)"
   ]
  },
  {
   "cell_type": "markdown",
   "id": "c44eec3a-182c-49bf-89fb-dc59d59b0fd8",
   "metadata": {},
   "source": [
    "#### The weight shape follows the format [out_channels, in_channels, kernel_height, kernel_width]. After pruning, the number of out_channels has decreased from 512 to 373. Consequently, we've also adjusted the input channels of the subsequent convolution layer."
   ]
  },
  {
   "cell_type": "code",
   "execution_count": 24,
   "id": "c3d714f1-60bf-428e-85c7-6a3732a484e7",
   "metadata": {},
   "outputs": [
    {
     "name": "stdout",
     "output_type": "stream",
     "text": [
      "Model has been exported to ./resnet50_cats_vs_dogs_structured_pruned.onnx\n"
     ]
    }
   ],
   "source": [
    "# Export unstructured pruned model\n",
    "export_to_onnx(structured_pruned_model, \"./resnet50_cats_vs_dogs_structured_pruned.onnx\")"
   ]
  },
  {
   "cell_type": "markdown",
   "id": "839a3cff-8fe9-4b7c-b8f8-a1c3a6266137",
   "metadata": {},
   "source": [
    "<div style=\"text-align: center;\">\n",
    "    <h3>Architecture of ResNet50 model</h3>\n",
    "</div>\n",
    "\n",
    "\n",
    "<table>\n",
    "  <tr>\n",
    "    <td style=\"padding-right: 30px;\">\n",
    "        <img src=\"https://www.researchgate.net/profile/Master-Prince/publication/350421671/figure/fig1/AS:1005790324346881@1616810508674/An-illustration-of-ResNet-50-layers-architecture.png\" width=\"400\" height=\"300\"><b><center>Before Pruning</b></center>\n",
    "    </td>\n",
    "    <td style=\"left: 30px;\">\n",
    "        <img src=\"ResNet50_Architecture_Pruned.png\" width=\"400\"><br><center><b>After Pruning</b></center>\n",
    "    </td>\n",
    "  </tr>\n",
    "</table>\n",
    "\n",
    "**Note:** The images above show the changes in model architecture before and after pruning. As we can see, the model's last set of layers in purple has changed after the application of pruning. This can be visualized in ONNX model as well."
   ]
  }
 ],
 "metadata": {
  "kernelspec": {
   "display_name": "Python 3 (ipykernel)",
   "language": "python",
   "name": "python3"
  },
  "language_info": {
   "codemirror_mode": {
    "name": "ipython",
    "version": 3
   },
   "file_extension": ".py",
   "mimetype": "text/x-python",
   "name": "python",
   "nbconvert_exporter": "python",
   "pygments_lexer": "ipython3",
   "version": "3.10.12"
  }
 },
 "nbformat": 4,
 "nbformat_minor": 5
}
